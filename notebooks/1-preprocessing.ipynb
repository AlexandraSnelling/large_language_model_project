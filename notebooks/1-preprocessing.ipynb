{
  "cells": [
    {
      "cell_type": "markdown",
      "source": [
        "# **Load Dataset**"
      ],
      "metadata": {
        "id": "GRp8X6OQwChP"
      }
    },
    {
      "cell_type": "code",
      "execution_count": null,
      "metadata": {
        "id": "6KHG3iXFznWj"
      },
      "outputs": [],
      "source": [
        "pip install datasets"
      ]
    },
    {
      "cell_type": "code",
      "source": [
        "from datasets import load_dataset"
      ],
      "metadata": {
        "id": "5IPdUpjvz-rA"
      },
      "execution_count": 2,
      "outputs": []
    },
    {
      "cell_type": "code",
      "source": [
        "ds = load_dataset('multi_news')"
      ],
      "metadata": {
        "id": "LqWzojBRz-Ws"
      },
      "execution_count": null,
      "outputs": []
    },
    {
      "cell_type": "code",
      "source": [
        "print(type(ds))\n",
        "ds"
      ],
      "metadata": {
        "id": "Zard6dHyz-Dr"
      },
      "execution_count": null,
      "outputs": []
    },
    {
      "cell_type": "code",
      "source": [
        "ds['train'][0]"
      ],
      "metadata": {
        "id": "ggyMHGbxz9vv"
      },
      "execution_count": null,
      "outputs": []
    },
    {
      "cell_type": "code",
      "source": [
        "ds['train'].features"
      ],
      "metadata": {
        "id": "oOlKDJF4oBkO"
      },
      "execution_count": null,
      "outputs": []
    },
    {
      "cell_type": "code",
      "source": [
        "print(len(ds['train']))\n",
        "\n",
        "ds['train'][0]['document']"
      ],
      "metadata": {
        "id": "n0iTmuagn7aS"
      },
      "execution_count": null,
      "outputs": []
    },
    {
      "cell_type": "markdown",
      "source": [
        "# **Convert Dataset to Dataframe**"
      ],
      "metadata": {
        "id": "-04NtjOAvccK"
      }
    },
    {
      "cell_type": "code",
      "source": [
        "# convert datasets to pandas dataframes\n",
        "import pandas as pd\n",
        "ds_train = pd.DataFrame(ds['train'])\n",
        "ds_test = pd.DataFrame(ds['test'])"
      ],
      "metadata": {
        "id": "LfAdLYxxz9X3"
      },
      "execution_count": 8,
      "outputs": []
    },
    {
      "cell_type": "code",
      "source": [
        "ds_train.head(2)"
      ],
      "metadata": {
        "id": "DSMJ5Zw_pLvL"
      },
      "execution_count": null,
      "outputs": []
    },
    {
      "cell_type": "code",
      "source": [
        "ds_test.head(2)"
      ],
      "metadata": {
        "id": "Jc4BPdRRyE3Z"
      },
      "execution_count": null,
      "outputs": []
    },
    {
      "cell_type": "markdown",
      "source": [
        "# **Remove Punctuation**"
      ],
      "metadata": {
        "id": "QIdk86rsu3vt"
      }
    },
    {
      "cell_type": "code",
      "source": [
        "import string\n",
        "\n",
        "# define funtion to remove punctuation.\n",
        "def remove_punctuation(review):\n",
        "    review = review.translate(str.maketrans(\"\", \"\", string.punctuation))\n",
        "    return review"
      ],
      "metadata": {
        "id": "fo9y4fgIuopz"
      },
      "execution_count": 11,
      "outputs": []
    },
    {
      "cell_type": "code",
      "source": [
        "ds_train['document'] = ds_train['document'].apply(lambda x: remove_punctuation(x))\n",
        "ds_train['summary'] = ds_train['summary'].apply(lambda x: remove_punctuation(x))"
      ],
      "metadata": {
        "id": "2uzQiIMtqcX_"
      },
      "execution_count": 12,
      "outputs": []
    },
    {
      "cell_type": "code",
      "source": [
        "ds_test['document'] = ds_test['document'].apply(lambda x: remove_punctuation(x))\n",
        "ds_test['summary'] = ds_test['summary'].apply(lambda x: remove_punctuation(x))"
      ],
      "metadata": {
        "id": "xiahh5Gox1Ne"
      },
      "execution_count": 13,
      "outputs": []
    },
    {
      "cell_type": "code",
      "source": [],
      "metadata": {
        "id": "NTlLE1Efx0IU"
      },
      "execution_count": 13,
      "outputs": []
    },
    {
      "cell_type": "code",
      "source": [
        "ds_train.head(2)"
      ],
      "metadata": {
        "id": "IxFnvCAzq7yp",
        "outputId": "7db5c1db-609d-4938-d390-5829aecd19ab",
        "colab": {
          "base_uri": "https://localhost:8080/",
          "height": 112
        }
      },
      "execution_count": 14,
      "outputs": [
        {
          "output_type": "execute_result",
          "data": {
            "text/plain": [
              "                                            document  \\\n",
              "0  National Archives \\n \\n Yes it’s that time aga...   \n",
              "1  LOS ANGELES AP — In her first interview since ...   \n",
              "\n",
              "                                             summary  \n",
              "0  – The unemployment rate dropped to 82 last mon...  \n",
              "1  – Shelly Sterling plans eventually to divorce ...  "
            ],
            "text/html": [
              "\n",
              "  <div id=\"df-a59aa5b2-3c85-4e68-a549-6c88f52dceeb\" class=\"colab-df-container\">\n",
              "    <div>\n",
              "<style scoped>\n",
              "    .dataframe tbody tr th:only-of-type {\n",
              "        vertical-align: middle;\n",
              "    }\n",
              "\n",
              "    .dataframe tbody tr th {\n",
              "        vertical-align: top;\n",
              "    }\n",
              "\n",
              "    .dataframe thead th {\n",
              "        text-align: right;\n",
              "    }\n",
              "</style>\n",
              "<table border=\"1\" class=\"dataframe\">\n",
              "  <thead>\n",
              "    <tr style=\"text-align: right;\">\n",
              "      <th></th>\n",
              "      <th>document</th>\n",
              "      <th>summary</th>\n",
              "    </tr>\n",
              "  </thead>\n",
              "  <tbody>\n",
              "    <tr>\n",
              "      <th>0</th>\n",
              "      <td>National Archives \\n \\n Yes it’s that time aga...</td>\n",
              "      <td>– The unemployment rate dropped to 82 last mon...</td>\n",
              "    </tr>\n",
              "    <tr>\n",
              "      <th>1</th>\n",
              "      <td>LOS ANGELES AP — In her first interview since ...</td>\n",
              "      <td>– Shelly Sterling plans eventually to divorce ...</td>\n",
              "    </tr>\n",
              "  </tbody>\n",
              "</table>\n",
              "</div>\n",
              "    <div class=\"colab-df-buttons\">\n",
              "\n",
              "  <div class=\"colab-df-container\">\n",
              "    <button class=\"colab-df-convert\" onclick=\"convertToInteractive('df-a59aa5b2-3c85-4e68-a549-6c88f52dceeb')\"\n",
              "            title=\"Convert this dataframe to an interactive table.\"\n",
              "            style=\"display:none;\">\n",
              "\n",
              "  <svg xmlns=\"http://www.w3.org/2000/svg\" height=\"24px\" viewBox=\"0 -960 960 960\">\n",
              "    <path d=\"M120-120v-720h720v720H120Zm60-500h600v-160H180v160Zm220 220h160v-160H400v160Zm0 220h160v-160H400v160ZM180-400h160v-160H180v160Zm440 0h160v-160H620v160ZM180-180h160v-160H180v160Zm440 0h160v-160H620v160Z\"/>\n",
              "  </svg>\n",
              "    </button>\n",
              "\n",
              "  <style>\n",
              "    .colab-df-container {\n",
              "      display:flex;\n",
              "      gap: 12px;\n",
              "    }\n",
              "\n",
              "    .colab-df-convert {\n",
              "      background-color: #E8F0FE;\n",
              "      border: none;\n",
              "      border-radius: 50%;\n",
              "      cursor: pointer;\n",
              "      display: none;\n",
              "      fill: #1967D2;\n",
              "      height: 32px;\n",
              "      padding: 0 0 0 0;\n",
              "      width: 32px;\n",
              "    }\n",
              "\n",
              "    .colab-df-convert:hover {\n",
              "      background-color: #E2EBFA;\n",
              "      box-shadow: 0px 1px 2px rgba(60, 64, 67, 0.3), 0px 1px 3px 1px rgba(60, 64, 67, 0.15);\n",
              "      fill: #174EA6;\n",
              "    }\n",
              "\n",
              "    .colab-df-buttons div {\n",
              "      margin-bottom: 4px;\n",
              "    }\n",
              "\n",
              "    [theme=dark] .colab-df-convert {\n",
              "      background-color: #3B4455;\n",
              "      fill: #D2E3FC;\n",
              "    }\n",
              "\n",
              "    [theme=dark] .colab-df-convert:hover {\n",
              "      background-color: #434B5C;\n",
              "      box-shadow: 0px 1px 3px 1px rgba(0, 0, 0, 0.15);\n",
              "      filter: drop-shadow(0px 1px 2px rgba(0, 0, 0, 0.3));\n",
              "      fill: #FFFFFF;\n",
              "    }\n",
              "  </style>\n",
              "\n",
              "    <script>\n",
              "      const buttonEl =\n",
              "        document.querySelector('#df-a59aa5b2-3c85-4e68-a549-6c88f52dceeb button.colab-df-convert');\n",
              "      buttonEl.style.display =\n",
              "        google.colab.kernel.accessAllowed ? 'block' : 'none';\n",
              "\n",
              "      async function convertToInteractive(key) {\n",
              "        const element = document.querySelector('#df-a59aa5b2-3c85-4e68-a549-6c88f52dceeb');\n",
              "        const dataTable =\n",
              "          await google.colab.kernel.invokeFunction('convertToInteractive',\n",
              "                                                    [key], {});\n",
              "        if (!dataTable) return;\n",
              "\n",
              "        const docLinkHtml = 'Like what you see? Visit the ' +\n",
              "          '<a target=\"_blank\" href=https://colab.research.google.com/notebooks/data_table.ipynb>data table notebook</a>'\n",
              "          + ' to learn more about interactive tables.';\n",
              "        element.innerHTML = '';\n",
              "        dataTable['output_type'] = 'display_data';\n",
              "        await google.colab.output.renderOutput(dataTable, element);\n",
              "        const docLink = document.createElement('div');\n",
              "        docLink.innerHTML = docLinkHtml;\n",
              "        element.appendChild(docLink);\n",
              "      }\n",
              "    </script>\n",
              "  </div>\n",
              "\n",
              "\n",
              "<div id=\"df-64f608ec-0ba5-44fd-8cfb-ae21ac358be4\">\n",
              "  <button class=\"colab-df-quickchart\" onclick=\"quickchart('df-64f608ec-0ba5-44fd-8cfb-ae21ac358be4')\"\n",
              "            title=\"Suggest charts\"\n",
              "            style=\"display:none;\">\n",
              "\n",
              "<svg xmlns=\"http://www.w3.org/2000/svg\" height=\"24px\"viewBox=\"0 0 24 24\"\n",
              "     width=\"24px\">\n",
              "    <g>\n",
              "        <path d=\"M19 3H5c-1.1 0-2 .9-2 2v14c0 1.1.9 2 2 2h14c1.1 0 2-.9 2-2V5c0-1.1-.9-2-2-2zM9 17H7v-7h2v7zm4 0h-2V7h2v10zm4 0h-2v-4h2v4z\"/>\n",
              "    </g>\n",
              "</svg>\n",
              "  </button>\n",
              "\n",
              "<style>\n",
              "  .colab-df-quickchart {\n",
              "      --bg-color: #E8F0FE;\n",
              "      --fill-color: #1967D2;\n",
              "      --hover-bg-color: #E2EBFA;\n",
              "      --hover-fill-color: #174EA6;\n",
              "      --disabled-fill-color: #AAA;\n",
              "      --disabled-bg-color: #DDD;\n",
              "  }\n",
              "\n",
              "  [theme=dark] .colab-df-quickchart {\n",
              "      --bg-color: #3B4455;\n",
              "      --fill-color: #D2E3FC;\n",
              "      --hover-bg-color: #434B5C;\n",
              "      --hover-fill-color: #FFFFFF;\n",
              "      --disabled-bg-color: #3B4455;\n",
              "      --disabled-fill-color: #666;\n",
              "  }\n",
              "\n",
              "  .colab-df-quickchart {\n",
              "    background-color: var(--bg-color);\n",
              "    border: none;\n",
              "    border-radius: 50%;\n",
              "    cursor: pointer;\n",
              "    display: none;\n",
              "    fill: var(--fill-color);\n",
              "    height: 32px;\n",
              "    padding: 0;\n",
              "    width: 32px;\n",
              "  }\n",
              "\n",
              "  .colab-df-quickchart:hover {\n",
              "    background-color: var(--hover-bg-color);\n",
              "    box-shadow: 0 1px 2px rgba(60, 64, 67, 0.3), 0 1px 3px 1px rgba(60, 64, 67, 0.15);\n",
              "    fill: var(--button-hover-fill-color);\n",
              "  }\n",
              "\n",
              "  .colab-df-quickchart-complete:disabled,\n",
              "  .colab-df-quickchart-complete:disabled:hover {\n",
              "    background-color: var(--disabled-bg-color);\n",
              "    fill: var(--disabled-fill-color);\n",
              "    box-shadow: none;\n",
              "  }\n",
              "\n",
              "  .colab-df-spinner {\n",
              "    border: 2px solid var(--fill-color);\n",
              "    border-color: transparent;\n",
              "    border-bottom-color: var(--fill-color);\n",
              "    animation:\n",
              "      spin 1s steps(1) infinite;\n",
              "  }\n",
              "\n",
              "  @keyframes spin {\n",
              "    0% {\n",
              "      border-color: transparent;\n",
              "      border-bottom-color: var(--fill-color);\n",
              "      border-left-color: var(--fill-color);\n",
              "    }\n",
              "    20% {\n",
              "      border-color: transparent;\n",
              "      border-left-color: var(--fill-color);\n",
              "      border-top-color: var(--fill-color);\n",
              "    }\n",
              "    30% {\n",
              "      border-color: transparent;\n",
              "      border-left-color: var(--fill-color);\n",
              "      border-top-color: var(--fill-color);\n",
              "      border-right-color: var(--fill-color);\n",
              "    }\n",
              "    40% {\n",
              "      border-color: transparent;\n",
              "      border-right-color: var(--fill-color);\n",
              "      border-top-color: var(--fill-color);\n",
              "    }\n",
              "    60% {\n",
              "      border-color: transparent;\n",
              "      border-right-color: var(--fill-color);\n",
              "    }\n",
              "    80% {\n",
              "      border-color: transparent;\n",
              "      border-right-color: var(--fill-color);\n",
              "      border-bottom-color: var(--fill-color);\n",
              "    }\n",
              "    90% {\n",
              "      border-color: transparent;\n",
              "      border-bottom-color: var(--fill-color);\n",
              "    }\n",
              "  }\n",
              "</style>\n",
              "\n",
              "  <script>\n",
              "    async function quickchart(key) {\n",
              "      const quickchartButtonEl =\n",
              "        document.querySelector('#' + key + ' button');\n",
              "      quickchartButtonEl.disabled = true;  // To prevent multiple clicks.\n",
              "      quickchartButtonEl.classList.add('colab-df-spinner');\n",
              "      try {\n",
              "        const charts = await google.colab.kernel.invokeFunction(\n",
              "            'suggestCharts', [key], {});\n",
              "      } catch (error) {\n",
              "        console.error('Error during call to suggestCharts:', error);\n",
              "      }\n",
              "      quickchartButtonEl.classList.remove('colab-df-spinner');\n",
              "      quickchartButtonEl.classList.add('colab-df-quickchart-complete');\n",
              "    }\n",
              "    (() => {\n",
              "      let quickchartButtonEl =\n",
              "        document.querySelector('#df-64f608ec-0ba5-44fd-8cfb-ae21ac358be4 button');\n",
              "      quickchartButtonEl.style.display =\n",
              "        google.colab.kernel.accessAllowed ? 'block' : 'none';\n",
              "    })();\n",
              "  </script>\n",
              "</div>\n",
              "\n",
              "    </div>\n",
              "  </div>\n"
            ],
            "application/vnd.google.colaboratory.intrinsic+json": {
              "type": "dataframe",
              "variable_name": "ds_train",
              "summary": "{\n  \"name\": \"ds_train\",\n  \"rows\": 44972,\n  \"fields\": [\n    {\n      \"column\": \"document\",\n      \"properties\": {\n        \"dtype\": \"string\",\n        \"num_unique_values\": 44911,\n        \"samples\": [\n          \"A knife was found on the old property of OJ Simpson is likely not connected to the murders of Nicole Brown Simpson and Ronald Goldman Patrick Healy reports for the NBC4 News at 6 on Friday March 4 2016 Published Friday March 4 2016 \\n \\n Los Angeles police confirmed Friday morning a knife was found on the former Brentwood property of OJ Simpson and said they are investigating a report that it was discovered years ago by a construction worker who handed it over to authorities \\n \\n A report published Friday by TMZ and citing unidentified law enforcement sources said a construction worker found a knife several years ago buried on the perimeter of the former Simpson home and gave it to a police officer working security for a nearby film shoot \\n \\n Archive The OJ Simpson SlowSpeed Chase On June 17 1994 an apparently suicidal Orenthal OJ Simpson and his friend Al Cowlings led police on a 60 mile slowspeed car chase through Los Angeles and Orange counties captivating viewers glued to television sets Simpson had failed to surrender to police earlier in the day when he was slated to be charged in the murders of his exwife and her male friend As police closed down the freeways and 20 cruisers followed Simpson spectators filled the freeway overpasses many cheering him on with signs reading Go OJ Published Friday March 4 2016 \\n \\n The officer now retired was recently ordered to surrender the knife for testing by authorities after he contacted a friend at the department for information about the 1994 murder case for which Simpson stood trial according to the report \\n \\n LAPD Capt Andrew Neiman told NBC4 Friday morning that police are investigating the report \\n \\n The mansion on Rockingham Avenue in Brentwood where Simpson lived when his exwife and her friend were stabbed to death in June 1994 was demolished by a new owner in 1998 TMZ reported citing law enforcement sources that the knife was found sometime from several years ago to 1998 \\n \\n The Great White Bronco Chase \\n \\n We still dont know if thats an accurate account Neiman said \\n \\n Neiman confirmed at a Friday morning news conference that an individual identified by the officer as a construction worker gave the knife to him when he was working security at a film shoot near the former Simpson estate The officer retired in the late 1990s but its not clear whether the officer was retired at the time the knife was found Neiman said \\n \\n If this story is accurate I would think an LAPD officer would know that anytime you come into contact with evidence you should submit that to investigators Neiman said \\n \\n The officer will likely not face administrative charges because he is retired Neiman said adding that an investigation will determine whether criminal charges are possible \\n \\n Life and Times OJ Simpson \\n \\n Police became aware of the knife within the last month but authorities did not discuss details about how they obtained the item It has been submitted to an LAPD forensics team for examination \\n \\n It was not clear to whom the knife belonged and authorities are attempting to determine the identity of the individual who turned it over to the officer Neiman said \\n \\n With all cases that remain open unless theres an actual arrest or conviction to prove weve actually closed the case the case remains open Neiman said of the killings of Nicole Brown Simpson and Ron Goldman \\n \\n Neiman did not provide a description of the knife at the Friday news conference but multiple law enforcement sources familiar with the investigation told NBC News that the knife undergoing tests is a relatively inexpensive smallerbladed utility blade typically used by construction workers gardeners landscapers or other laborers \\n \\n The murder weapon in the case has remained a mystery A 15inch retractableblade knife that Simpson bought at Ross Cutlery in downtown Los Angeles drew the interest of murder trial prosecutors but the defense presented the knife in a preliminary hearing Tests later showed the knife in pristine condition with no signs it had been used in the double killing \\n \\n LAPD Discusses Knife Found at ExOJ Simpson Home Published Friday March 4 2016 \\n \\n In 1998 a residential construction crew found a foldingblade knife in Simpsons former neighborhood but police said there was no evidence to show it was related to any crime \\n \\n The mansion where Simpson married Brown in 1985 was one of the landmarks of the murder trial The infamous white Ford Bronco pursuit from Orange County ended in the mansions driveway Its also where Det Mark Fuhrman said he found a bloody glove during the investigation into the slayings of Brown and Goldman \\n \\n Simpson was forced to sell the Rockingham Avenue estate to comply with requirements of the civil court judgment after the criminal trial An investment banker hired a demolition crew to raze the house and clear the way for a new mansion four years later \\n \\n Its not my house and I could care less Simpson told The Associated Press in a telephone interview at the time the house was demolished I am a sentimental guy but theres things youve got to compartmentalize \\n \\n The former NFL and USC football star was acquitted of murder in the slayings of exwife and Goldman but a civil jury found him liable In September 2007 Simpson was arrested in Las Vegas and charged with several felonies after an armed robbery and kidnapping at a hotel in an attempt to recover sports memorabilia \\n \\n He was sentenced to 33 years in prison \\n \\n OJ Trial Key Players Then and Now \\n \\n No matter what is determined through the knife investigation Simpson cannot be tried again in the BrownGoldman murders because of the Double Jeopardy Clause of the Fifth Amendment Attorney Carl Douglas a member of Simpsons legal team that secured the 1995 acquittal said an investigation involving the knife would be a waste of time and money \\n \\n I am amazed at the latest frenzy surrounding this ridiculous frenzy about some knife found on OJs former property Douglas said As a proud citizen of Los Angeles I will be offended if the Los Angeles Police Department spends one minute of city time or one dollar of the citys limited resources chasing this ridiculous supposed lead I hope there are other investigations more deserving of the citys resources than this failed attempt now 22 years old \\n \\n OJ left the house two days after the murders and never returned until October 3rd 1995 I certainly hope the LAPD used all of the resources then to scour every inch of his property looking for relevant evidence It is pure fantasy to believe that theres anything relevant with this knife that has now been turned over Id rather talk about the Easter Bunny instead  ABC News reports investigators said preliminary information indicates the knife found on OJ Simpsons old home is not the murder weapon in the killings of Nicole Brown Simpson and Ronald GoldmanCapt Andrew Neiman said the Los Angeles Police Department became aware of the item within the last month It was allegedly recovered by a citizen at the property possibly around the time the site was demolished which was in 1998Trent Copeland the attorney of retired officer George Maycott described the weapon as a 5inch buck knife covered with dirt and mud He said there were no obvious signs of blood on the knife Law enforcement officials told ABC News the likely real murder weapon was bigger and possibly exoticThe item was found by a construction worker at the site and he gave it to Maycott who was working an offduty movie job Maycott retired at the time immediately called the West Los Angeles Police Department to tell them he was handed a knife the attorney said The person on the phone placed Maycott on hold and said she spoke to a supervisor who said the case was over and there was nothing they could do due to double jeopardy according to CopelandAuthorities said the retired officer held onto the knife and kept it in a tool box for 15 years until recentlyMaycotts attorney said the retired officer was buying materials at the academy and asked someone for a records number on the Simpson case Jokingly Maycott decided to put the number on the knife and frame it The weapon was taken into custody on Feb 10 and Maycott did not resist according to CopelandI was really surprised I would think that an LAPD officer  if this story is accurate as were being told  would know that any time you come into contact with evidence that you should and shall submit that to investigators Neiman said I dont know what the circumstances are or why that didnt happen or if thats entirely accurate or if this whole story is possibly bogus from the getgoThe police department has asked for the citizen who turned over the knife to contact themAuthorities said they were still doing testing to check whether the weapon was connected to the murders As part of the investigation LAPD detectives were trying to piece together the timeline of exactly when the demolition of the property started and ended and who obtained the knife and had possession of it from then until now according to ABC NewsNeiman said double jeopardy would be in place for SimpsonSimpson a former football player was acquitted of murder charges in the 1994 stabbings of his exwife and her friend He is currently imprisoned in Nevada for a 2008 armed robbery and kidnapping convictionGoldmans public relations firm Garson  Wright Public Relations Inc released the following statement from Fred and Kim GoldmanUntil the LAPD completes its investigation of the recovered knife the validity of the knife as it relates to Ron and Nicoles murder is purely speculative It is not a shock to our family that stories like this are making headlines again Being a victimsurvivor is an ongoing process for all those impacted We cannot validate every claim with a discussion as it only creates more unnecessary hype and encourages the media circus   Marcia Clark is opening up about reliving OJ Simpsons infamous 1995 murder trial in the form of FXs truecrime miniseries The People vs OJ Simpson American Crime Story \\n \\n \\n \\n Watching it happen again on television was enormously painful Clark said in an exclusive interview with ETs Jennifer Peros Its killing me all over again \\n \\n Clark was the head prosecutor during Simpsons trial and ended up taking a leave of absence from her job after the former NFL star was acquitted of murder before retiring two years later Clark went on to coauthor a book about the case titled Without a Doubt \\n \\n WATCH OJ Simpson Prosecutor Recalls Verdict 20 Years Later It Shook My Belief in the System \\n \\n \\n \\n Clark said that while Tuesdays debut of American Crime Story was phenomenal watching the events of the case unfold once again was like reliving a nightmare \\n \\n However the 62yearold had nothing but praise for actress Sarah Paulson who portrays her on the miniseries \\n \\n \\n \\n I think she is a genius Clark gushed adding that she feels its an honor to be played by Paulson whom she met with as the actress was wrapping up her work on the series \\n \\n MORE The People v OJ Simpson Get to Know the 10 Key Characters and the StarStudded Cast of American Crime Story \\n \\n \\n \\n Paulson went indepth researching the role even going so far as to wear the same perfume Clark did during the 1995 trial \\n \\n Shes an amazing actress the prosecutor said She surpassed anything I could have ever imagined Shes funny and so brilliant and shes a wonderful person \\n \\n Clark admitted however that she had to apologize to Paulson for one of her style choices during the highlypublicized murder trial \\n \\n The first thing I said to her was sorry about that hair recalled Clark  who famously sported a curly perm during the televised proceedings  with a laugh \\n \\n WATCH Cuba Gooding Jr Explains Why He Didnt Reach Out to OJ Simpson About American Crime Story \\n \\n \\n \\n She said yeah they had a series of wigs she had to wear the prosecutor added So she didnt really have to get a perm Theres only so far you have to go \\n \\n Looking back Clark is surprised that her appearance garnered so much attention and says she\\u2019s happy that executive producer Ryan Murphy had the guts to take a look at the sexism aspect of how she was portrayed in the media \\n \\n I mean Im a prosecutor Im not a model Im not an actress she reflected Im prosecuting a case Im a lawyer No one had ever cared before \\u2026 and suddenly everybody is talking about my hair and my makeup it was mindblowing It was like living on another planet And I have to say no one until now has talked about that \\n \\n WATCH Nicole Brown and Ron Goldmans Families Tell Dr Phil American Crime Story Is Epitome of Disrespect \\n \\n \\n \\n While Clark supports the show and Paulsons onscreen portrayal she acknowledged the complaints leveled against the series by the families of Simpsons alleged victims exwife Nicole Brown Simpson and Ron Goldman who have been vocally opposed to the production calling it the epitome of disrespect \\n \\n I think the series actually makes an effort to acknowledge them and the ways in which that they were forgotten Clark said This is an important series thats beautifully done very compelling and I cant thank Ryan Murphy enough for what hes done here in terms of raising these issues in a very serious and compelling and very substantive way \\n \\n But at the end of the day two people lost their lives in a brutal murder she added So we have to remember that We cant forget them again Remember Ron and Nicole \\n \\n These days Clark works in criminal defense helping people who cant afford to take care of their own while also writing crime novels Her latest book Blood Defense which draws on her legal experience to tell the story of a criminal defense lawyer with a twisted kind of justice hits shelves May 1 \\n \\n WATCH Nicole Brown Simpsons Sister Sounds Off on American Crime Story \\n \\n  Marcia Clark is opening up about reliving OJ Simpsons infamous 1995 murder trial in the form of FXs truecrime miniseries The People vs OJ Simpson American Crime Story \\n \\n \\n \\n Watching it happen again on television was enormously painful Clark said in an exclusive interview with ETs Jennifer Peros Its killing me all over again \\n \\n Clark was the head prosecutor during Simpsons trial and ended up taking a leave of absence from her job after the former NFL star was acquitted of murder before retiring two years later Clark went on to coauthor a book about the case titled Without a Doubt \\n \\n WATCH OJ Simpson Prosecutor Recalls Verdict 20 Years Later It Shook My Belief in the System \\n \\n \\n \\n Clark said that while Tuesdays debut of American Crime Story was phenomenal watching the events of the case unfold once again was like reliving a nightmare \\n \\n However the 62yearold had nothing but praise for actress Sarah Paulson who portrays her on the miniseries \\n \\n \\n \\n I think she is a genius Clark gushed adding that she feels its an honor to be played by Paulson whom she met with as the actress was wrapping up her work on the series \\n \\n MORE The People v OJ Simpson Get to Know the 10 Key Characters and the StarStudded Cast of American Crime Story \\n \\n \\n \\n Paulson went indepth researching the role even going so far as to wear the same perfume Clark did during the 1995 trial \\n \\n Shes an amazing actress the prosecutor said She surpassed anything I could have ever imagined Shes funny and so brilliant and shes a wonderful person \\n \\n Clark admitted however that she had to apologize to Paulson for one of her style choices during the highlypublicized murder trial \\n \\n The first thing I said to her was sorry about that hair recalled Clark  who famously sported a curly perm during the televised proceedings  with a laugh \\n \\n WATCH Cuba Gooding Jr Explains Why He Didnt Reach Out to OJ Simpson About American Crime Story \\n \\n \\n \\n She said yeah they had a series of wigs she had to wear the prosecutor added So she didnt really have to get a perm Theres only so far you have to go \\n \\n Looking back Clark is surprised that her appearance garnered so much attention and says she\\u2019s happy that executive producer Ryan Murphy had the guts to take a look at the sexism aspect of how she was portrayed in the media \\n \\n I mean Im a prosecutor Im not a model Im not an actress she reflected Im prosecuting a case Im a lawyer No one had ever cared before \\u2026 and suddenly everybody is talking about my hair and my makeup it was mindblowing It was like living on another planet And I have to say no one until now has talked about that \\n \\n WATCH Nicole Brown and Ron Goldmans Families Tell Dr Phil American Crime Story Is Epitome of Disrespect \\n \\n \\n \\n While Clark supports the show and Paulsons onscreen portrayal she acknowledged the complaints leveled against the series by the families of Simpsons alleged victims exwife Nicole Brown Simpson and Ron Goldman who have been vocally opposed to the production calling it the epitome of disrespect \\n \\n I think the series actually makes an effort to acknowledge them and the ways in which that they were forgotten Clark said This is an important series thats beautifully done very compelling and I cant thank Ryan Murphy enough for what hes done here in terms of raising these issues in a very serious and compelling and very substantive way \\n \\n But at the end of the day two people lost their lives in a brutal murder she added So we have to remember that We cant forget them again Remember Ron and Nicole \\n \\n These days Clark works in criminal defense helping people who cant afford to take care of their own while also writing crime novels Her latest book Blood Defense which draws on her legal experience to tell the story of a criminal defense lawyer with a twisted kind of justice hits shelves May 1 \\n \\n WATCH Nicole Brown Simpsons Sister Sounds Off on American Crime Story \\n \\n\",\n          \"Oh no The star wound up showing off way more than she bargained for in her revealing gown \\u2014 and it happened right when the camera flashed on her What did you think of her major malfunction \\n \\n Paris Hilton showed some skin in a serious way in her very sexy gown at the BET Awards in LA on June 29 where the 33yearold flaunted her svelte frame in a white longsleeved gown While the dress featured a thighhigh slit that allowed her to show off her long legs it was the cutouts at the chest that really stole the show The strategic opening put her cleavage and her toned physique on full display \\u2014 but that\\u2019s not all \\n \\n Paris Hilton\\u2019s Nip Slip At BET Awards \\u2014 Wardrobe Malfunction \\n \\n Paris\\u2019 dress didn\\u2019t just feature cutouts at the chest\\u2026it also featured cutouts on the sides showing off even more skin The blonde bombshell turned to Project Runway alum and red carpet pro Michael Costello who was responsible for designing the seriously sultry number She wore her hair straight and parted in the middle adding to the sleek look of the ensemble \\n \\n While the dress looked seriously sexy as she rocked the red carpet when she sat down in the ensemble the top gaped open allowing even more of her chest to show Oh no That\\u2019s when her nipple seemed to pop out of the frock \\n \\n While we enjoyed seeing Paris rock the seriously sexy sleek style we wish she managed to keep her chest concealed a bit better What do you think Was Paris\\u2019 malfunction majorly embarrassing or was it really not a big deal at all \\n \\n Katrina Mitzeliotis \\n \\n Follow KatrinaCM \\n \\n More BET Awards News  Paris Hilton posed in that way only Paris Hilton does on Sunday\\u2019s BET red carpet \\n \\n But when she was seated in the auditorium just a few minutes into the show host Chris Rock called her out for her dress \\n \\n \\u201cWow You are getting your Kardashian on tonight\\u201d he told her \\n \\n The camera cut to her just as she seemed to have a bit of a wardrobe malfunction Hollywood Life jumped on the near the nip slip as did some fans \\n \\n httpstwittercomFaithF1rsTstatus483412518740955137 \\n \\n Here\\u2019s what we saw on TV \\n \\n As for Paris We have a feeling she loved it all She went on to party with Courtney Love and Amber Rose  Nicki Minaj gave an acceptance speech at the BET Awards Credit Kevin WinterGetty Images \\n \\n Nicki Minaj did it on em at the BET Awards on Sunday evening June 29 when she took home the honor of Best Female HipHop Artist The rapper 31 beat out Angel Haze Charli Baltimore Eve and Iggy Azalea to win the category \\n \\n Minaj took the stage at the awards show in Los Angeles in a classy black sleeveless gown happily accepting the award which she won for the fifth year in a row \\n \\n PHOTOS Nickis craziest hairstyles \\n \\n After expressing her gratitude for the honor and saying that she doesnt take it for granted the Pills N Potions performer continued What I want the world to know about Nicki Minaj is when you hear Nicki Minaj spit Nicki Minaj wrote it \\n \\n The words were seen by many as a shot against hugely successful Azalea 24 who has burst onto the scene in the last year The Australian performer who raps on her two current hits Problem with Ariana Grande and Fancy with Charli XCX has yet to comment on the supposed criticism \\n \\n PHOTOS Nicki Minajs wildest pictures \\n \\n Minaj herself hedged her words in the speech adding No no no no shade \\n \\n She went on to include another surprising tidbit explaining offhand The other day literally I didn\\u2019t tell anyone this I really thought I was about to die Like I was saying my prayers to die And I didn\\u2019t even wanna call the ambulance because I thought Well if I call the ambulance it\\u2019s gonna be on TMZ And I would rather sit there and die\\u2026 and it made me realize I don\\u2019t care what anybody gotta say I\\u2019ma do me I\\u2019ma do me And I hope and pray that BET continues to honor authenticity And that\\u2019s all I\\u2019m gonna say about that \\n \\n PHOTOS Nickis bikini body \\n \\n The rapper has yet to expand on the nature of her reported brush with death  1 of 45 Full Screen Autoplay Close Skip Ad \\u00d7 Red carpet arrivals performances and awards at the 2014 BET Awards View Photos Chris Rock hosts the annual event that features performances and awards for the top in RB pop hiphop and rap Caption Chris Rock hosts the annual event that features performances and awards for the top in RB pop hiphop and rap June 29 2014 Actress Tamera MowryHousley Earl Gibson IIIGetty Images For BET Buy Photo Wait 1 second to continue \\n \\n No one will blame you if you didn\\u2019t make it through all three hours and 48 minutes of this year\\u2019s BET Awards but Nicki Minaj almost made it worth sticking with the entire messy drawnout production \\n \\n During her acceptance speech for best female hip hop artist \\u2014 a category that\\u2019s had its lean years because there hasn\\u2019t been always been a consistent stream of popular female rappers to compete for the title \\u2014 Minaj leveled an insult at fellow nominee Iggy Azalea that was so thinly veiled it could have been wearing Rihanna\\u2019s Naked Dress from the CFDA Awards \\n \\n Rapper Nicki Minaj accepts Best Female HipHop Artist onstage during the BET Awards in Los Angeles Photo by Kevin WinterGetty Images for BET \\n \\n \\u201cYou guys this is always very very emotional for me because this is my fifth year winning this award and I don\\u2019t take it for granted\\u201d Minaj said \\u201cI really don\\u2019t I thank God that I\\u2019ve been placed in a position to represent women in a culture that is so male driven And I want you to know this I\\u2019m working on an album called the \\u2018Pink Print\\u2019 but that\\u2019s not a plug but it\\u2019s a plug But my point is what I want the world to know about Nicki Minaj is when you hear Nicki Minaj spit Nicki Minaj wrote it\\u201d \\n \\n Minaj cocked her head and pursed her lips Ears perked up in the crowd Where was this going Minaj grabbed the mike turned on her heel and flipped her hair clearly doing an exaggerated mimic of Azalea \\n \\n \\u201cAnd no no no no no No shade\\u201d Minaj added despite the fact that she was casting an entire forest\\u2019s worth of shade \\n \\n Azalea whose song \\u201cFancy\\u201d has been the No 1 song on Billboard\\u2019s Hot 100 since June 7 she\\u2019s spent 16 weeks on the chart has been criticized as inauthentic for the accent she adopts to perform \\u2014 some have gone as far as saying she stole Charli Baltimore\\u2019s flow But Minaj implying that Azalea doesn\\u2019t even write her own rhymes would make Azalea the prevailing Wizard of Oz of hip hop Minaj basically stood up and said live on national television that Azalea\\u2019s act is nothing but a charade It certainly casts doubt on the assertion Azalea spits in the very first line of \\u201cFancy\\u201d \\u201cFirst things first I\\u2019m the realest\\u201d \\n \\n Whoops \\n \\n Everybody looking at Iggy like\\u2026 pictwittercomcK5VUSzx1j \\u2014 Casey Novak SassieNClassi June 30 2014 \\n \\n It\\u2019s not as though the curtain hasn\\u2019t come down on Azalea before when she performed \\u201cFancy\\u201d live on \\u201cDancing With the Stars\\u201d we saw a primetime example of codeswitching Azalea who is Australian wasn\\u2019t in time with her backing track and in the middle of a live performance switched from her \\u201chip hop voice\\u201d to her real one saying \\u201cI\\u2019m so sorry there\\u2019s something wrong with my ear\\u201d \\n \\n Azalea is the only the second artist after the Beatles to have her first two songs occupy the top two spots on the Billboard chart simultaneously with \\u201cFancy\\u201d at No 1 and \\u201cProblem\\u201d at No 2 \\u201cProblem\\u201d is by Ariana Grande but features Azalea Minaj\\u2019s insult probably won\\u2019t do much to change that but it\\u2019s certainly fun to talk about especially since she provided some muchneeded entertainment for a show that couldn\\u2019t seem to get its act together \\n \\n The network saw fit to honor Lionel Richie with a lifetime achievement award complete with a threesong tribute from John Legend Ledisi and Yolanda Adams and your typical talking head documentarystyle commentary on the Commodores After his acceptance speech Richie concluded the salute to his work with a performance of \\u201cEasy\\u201d and \\u201cAll Night Long\\u201d All of which would have been perfectly standard had BET not screwed up Richie\\u2019s name In the super titles BET identified him as the winner of the Lifetime Achievement Award \\u2014 sort of BET actually identified \\u201cLionel Ritchie\\u201d as the recipient of the Lifetime Achievement Award It wasn\\u2019t as bad as John Travolta\\u2019s \\u201cAdele Dazeem\\u201d moment but it was emblematic of the production quality of the show \\n \\n YOU HAD ONE JOB pictwittercom922dikum0F \\u2014 Jermaine Spradley MrSpradley June 30 2014 \\n \\n \\n \\n Performances \\u2014 not acceptance speeches performances \\u2014 were cut short without warning in favor of commercials and the end of the show when it finally came was marked with a muchhyped and promoted \\u201cspecial performance\\u201d by Jay Z and Beyonc\\u00e9 which might as well have been a commercial for their \\u201cOn the Run\\u201d tour BET aired tour footage of Jay and Bey performing \\u201cPartition\\u201d \\u2014 Jay now has a verse on it \\n \\n No one expected them to take a break from touring for a threeminute appearance on BET\\u2019s little dog and pony show much less slog through the entire evening but Beyonc\\u00e9\\u2019s tour performance was noticeably flat Beyonc\\u00e9 is known for giving a live show that seems impossibly highenergy and intense but compared to footage from the Mrs Carter Show World Tour the chanteuse appeared to be phoning it in The \\u201cPartition\\u201d set was obviously cribbed from the scenes she filmed with the Crazy Horse Paris dancers for the music video but in a rare and unexpected turn the music video version was actually better \\n \\n She was still magnetic because come on she\\u2019s Beyonc\\u00e9 but if the footage sent to BET is any indication Mrs Carter appears to be a little off her game  Change the track Lovesick singer Robin Thicke made yet another emotionally charged apology to his wife Paula Patton onstage at the BET Awards on Sunday June 29 \\n \\n PHOTOS Robin and Paula the way they were \\n \\n Looking tired and puffy eyed the heartbroken crooner continued his very public reconciliation attempt announcing to the crowd at LAs Nokia Theatre Good evening my name is Robin Thicke I\\u2019d like to dedicate this song to my wife and say I miss you and I\\u2019m sorry This is called Forever Love \\n \\n The 37yearold singer who split from wife Patton 38 in February after nine years of marriage sat at a grand piano appearing visibly moved and at times pausing the song to wipe his nose after a sniffle Forever Love a song from his new album Paula left fans in no doubt as to his feelings \\n \\n PHOTOS Hollywoods hottest married couples \\n \\n \\u201cIf you ever doubt it now baby I will be there picking you up he sang You can lean on me any time baby for anything you want and need Yeah see I don\\u2019t need any reason memory or a season Every day I will believe that you and I are meant to be You\\u2019re my forever love\\u201d \\n \\n An audience member says the stars emotional state was the talk of the show Robin appeared to be crying during and after his performance the observer told Us Weekly \\n \\n PHOTOS Better after breakup \\n \\n After the performance which saw illuminated graphics of Paulas name swirl in the background host Chris Rock lightened the mood with a quip about the singers endless apology performances He\\u2019s singing like she don\\u2019t know him the comedian joked I miss the other song the one that sounded like Marvin Gaye\\u201d A source told Us the joke was supposed to be much meaner and it was toned down\\u201d \\n \\n For her part Patton has not responded to any of Thickes very public declarations of love The actress even danced to her former partner\\u2019s hit song Blurred Lines at a preOscars party in March without appearing to feel awkward \\n \\n Click on the link above to watch Thickes public attempt to get his wife back\",\n          \"Hillary Clintons muchanticipated appearance before the House Benghazi Committee on Thursday poses any number of potential legal traps all made more treacherous by the intense partisanship that has surrounded the committees lengthy investigation \\n \\n To navigate the minefield Hill veterans and legal experts say the former secretary of state needs to keep her cool and play upon her years of experience in the hot seat as a former New York senator and as a first lady who led the charge for her husbands failed health care proposal \\n \\n Story Continued Below \\n \\n Clinton has condemned Republicans on the Benghazi ommittee for trying to use the inquiry to hurt her poll numbers in the Democratic presidential contest Now the test will be whether Clinton can rise above the fray and focus on straight answers to outstanding questions about her handling of the 2012 Benghazi attacks that killed a US ambassador and the private email setup she relied on while in office \\n \\n Here\\u2019s POLITICO\\u2019s compilation of advice offered by experts of all stripes \\n \\n Don\\u2019t lie \\n \\n It\\u2019s easy to dismiss a potential future indictment of Clinton for lying to Congress as the fantasy of a fevered conservative mind but lawyers who prepare witnesses for Capitol Hill testimony say avoiding that unpleasant outcome would be at the top of their list \\n \\n \\u201cThere\\u2019s a federal law saying you can\\u2019t lie to Congress and you can\\u2019t mislead Congress It\\u2019s actually not all that unusual for congressional committees to refer people to the Justice Department for alleged false statements\\u201d said Robert Kelner a GOP lawyer with Covington  Burling \\u201cShe\\u2019s going to want to approach this from a political perspective and say things that will be directed to her political supporters but there\\u2019s a tremendous tension between her political incentives and the advice she must be getting from her lawyers to be extremely factual\\u201d \\n \\n Prosecutors coming after congressional witnesses over statements made in testimony is far from rare Pitcher Roger Clemens was indicted in 2010 for testimony he gave about steroids in Major League Baseball Sure he was acquitted two years later after a trial but who wants to go through that \\n \\n Claims of false congressional testimony have triggered a series of criminal cases in recent years including one against Steven Griles a George W Bush administration deputy secretary of the Interior who was caught up in the investigation into lobbyist Jack Abramoff and another against former BP executive David Rainey who was accused of understating how much oil spilled into the Gulf of Mexico during the Deepwater Horizon disaster Griles pled guilty while a judge ultimately dismissed the charge against Rainey \\n \\n There have also been calls for Director of National Intelligence James Clapper to be prosecuted for answers he gave to Congress about the NSA\\u2019s thenclassified phone surveillance efforts He apologized saying he misunderstood the question No charges have been filed \\n \\n The IranContra scandal brought the largest flurry of lyingtoCongress charges in the past few decades including indictments against Reagan National Security Adviser John Poindexter and Lt Col Oliver North Both men were convicted but had their convictions overturned on appeal \\n \\n So don\\u2019t shade the truth even if tempted \\n \\n Don\\u2019t speculate \\n \\n Clinton\\u2019s testimony Thursday won\\u2019t be her first public statements on Benghazi or on the email controversy that has dogged her presidential campaign but she and her advisers have already encountered difficulties with claims made about the email situation that later proved incorrect \\n \\n \\u201cHer biggest problem is inconsistent statements\\u201d said one prominent Democratic lawyer who asked not to be named \\u201cThat\\u2019s the risk of any person going into a situation like this This is the stuff of independent counsel investigations\\u201d \\n \\n Clinton\\u2019s campaign said she began using her private Clintonemailcom account on March 18 2009 but last month the Pentagon produced messages that she exchanged with Gen David Petraeus on that address weeks earlier Clinton aides said it now appears that while the server was set up on that March date the account became active earlier No one seems sure if or where messages from that period were stored \\n \\n Clinton\\u2019s lawyer also told Congress in March that no emails from her account from her tenure as secretary of state \\u201creside on the server or any backup systems associated with the server\\u201d However the FBI reportedly has recovered some of those messages and recently a service provider to Clinton\\u2019s information technology contractor revealed that it had backup of some of the servers contents \\n \\n Clinton also declared at the outset of the furor in March that she was confident there was no classified information in her account \\u201cThere is no classified material\\u201d she told reporters \\u201dI\\u2019m certainly wellaware of the classification requirements and did not send classified material\\u201d \\n \\n Now the State Department has classified more than 400 of the emails with more to come And the intelligence community says some contained information that was classified \\u201cTOP SECRET\\u201d or higher at the time Clinton has since changed her stance to say nothing she received was \\u201cmarked classified\\u201d \\n \\n Clinton also has said repeatedly there\\u2019s no indication anyone tried to breach her server\\u2019s security But a Senate committee found evidence of potential intrusions from China S Korea and Germany after she left office but while the server still contained her email archive \\n \\n For both political and legal reasons Clinton needs to avoid making any more declarations that are later overtaken by the facts \\n \\n \\u201cIn life you never know what you don\\u2019t know therefore you need to be careful not to go out on a limb to assert facts that are not rock solid\\u201d said Ron Weich dean of the University of Baltimore Law School and formerly the Justice Department\\u2019s top adviser to officials testifying on the Hill \\n \\n Expect Clinton to deflect to others as often as she can relaying what others told her about Benghazi or her emails She did just this in August submitting a declaration under penalty of perjury that appeared to certify all her work related emails had been turned over to the State Department But on closer examination it said simply that \\u201con information and belief\\u201d others did the review \\n \\n Given that her emails already made public show her struggling with technology like fax machines one easy out for Clinton will be to profess ignorance about any technical questions about her computer setup \\n \\n \\u201cI think you will hear a lot of caveats\\u201d Kelner said \\n \\n Don\\u2019t rile the FBI \\n \\n The FBI team investigating potential security breaches involving Clinton\\u2019s private server will undoubtedly tune in to her testimony Officially there\\u2019s no indication that Clinton is the target of the inquiry or even that it\\u2019s a criminal probe \\n \\n Clinton would be wise not to follow President Barack Obama\\u2019s example of dismissing the idea that the private server posed any national security threat lawyers said \\u201cThis is not a situation in which America\\u2019s national security was endangered\\u201d Obama declared recently on CBS\\u2019s \\u201c60 Minutes\\u201d The comment reportedly angered FBI agents working on the inquiry into Clinton\\u2019s server because it seemed to prejudge the outcome of their probe \\n \\n Experts urged Clinton to treat the classification issue seriously even as she maintains she didn\\u2019t knowingly handle anything classified on her private account \\n \\n \\u201cShe needs to say she takes this seriously that this is something that needs to be looked at by the appropriate agencies and hopefully lessons learned are derived from this\\u201d said Mark Zaid a lawyer who represents intelligence agency personnel He said Clinton can also legitimately decline to go into details about any specific cases by saying she \\u201cdoesn\\u2019t want to speak out of turn as departments argue amongst themselves about what should have been classified then or now\\u201d \\n \\n Don\\u2019t joke \\n \\n Clinton has already tried humor in an effort to defuse the email controversy but that approach didn\\u2019t work out particularly well \\n \\n \\u201cYou may have seen that I recently launched a Snapchat account\\u201d Clinton said during a speech to Iowa Democrats in August \\u201cI love it I love it Those messages disappear all by themselves\\u201d \\n \\n Later that month she answered with a flip response when a reporter asked whether her server was \\u201cwiped\\u201d at her direction \\u201cLike with a cloth or something\\u201d she replied \\n \\n The jokes didn\\u2019t sit well with some Clinton donors and advisers who thought she appeared to be belittling legitimate concerns about government transparency \\n \\n Probably best to leave the jokes aside this time particularly since the House hearing is supposed to be focused on Benghazi and the brutal deaths of four Americans With that grim context humor might be in poor taste \\n \\n Don\\u2019t join the food fight \\n \\n Clinton has signaled recently that if Benghazi committee members come after her she\\u2019s ready to throw back at them some righteous indignation \\n \\n \\u201cLook at the situation they chose to exploit to go after me for political reasonsthe death of four Americans in Benghazi\\u201d Clinton said angrily on NBC earlier this month \\u201cThis committee was set up as they have admitted for the purpose of making a partisan political issue out of the deaths of four Americans I would have never done that and if I were President and there were Republicans or Democrats who were thinking about that I would have done everything to shut it down\\u201d \\n \\n At a Senate Benghazi hearing in 2013 a frustrated outburst from Clinton grabbed headlines Was it because of a protest or was it because of guys out for a walk one night and decided they\\u2019d go kill some Americans Clinton said What difference \\u2013 at this point what difference does it make \\n \\n \\n \\n Clinton\\u2019s campaign has taken a decidedly combative tone with the Benghazi panel recently shifting away from litigating facts of the email dispute and towards heated claims that Gowdy\\u2019s effort is brazenly partisan Clinton may choose to keep that up Thursday But some Capitol Hill vets say rather than claiming unfairness from the witness table she\\u2019d score more points if she lets the panel\\u2019s five Democratic members slug it out with the GOP \\n \\n \\u201cThe witness should stand back and not get in the fray of a Congressional food fight\\u201d Weich said \\u201cThe Democrats on this committee are very very adept at defending witnesses from unfair attacks\\u2026Ranking Member Cumming and his troops will do their job and protect here She doesn\\u2019t need to be the one to raise points when her allies on the committee are ready to do so\\u201d \\n \\n  WASHINGTON AP \\u2014 After months of buildup Hillary Rodham Clinton finally takes center stage as the star witness in the Republicanled investigation into the deadly 2012 attacks in Benghazi Libya \\n \\n In this Oct 16 2015 photo Democratic presidential candidate Hillary Rodham Clinton speaks during a town hall meeting in Keene NH Clinton is taking center stage as the star witness in the Republicanled Associated Press \\n \\n Clinton the Democratic frontrunner for president testifies from a position of political strength as her potential rival for the nomination Vice President Joe Biden announced Wednesday that he will not jump into the presidential race and she rides the momentum of a solid debate performance \\n \\n In advance of her testimony Clinton campaign released a summary that said she is appearing before the committee to honor the memory of the four Americans killed in Benghazi The summary said Clinton will testify that Benghazi was a tragedy that must be learned from but that America must continue to lead in a dangerous world \\n \\n To do otherwise would mean drawing the wrong lesson from Benghazi she will say according to the summary \\n \\n Clinton will vow to pursue a smart brand of leadership that balances diplomacy development and defense and will say this approach to diplomacy involves an element of risktaking that can never be eliminated outright \\n \\n At the same time the Benghazi committee is on the defensive as the panels GOP chairman scrambles to deflect comments by fellow Republicans that the inquiry is aimed at hurting Clintons presidential bid \\n \\n Clinton faces a formidable challenge as she tries to explain security lapses at the US diplomatic compound in Benghazi the slow military response to the violence and the Obama administrations changing narrative about who was responsible for the attacks that killed four Americans including US ambassador Chris Stevens and why the attacks were launched \\n \\n In a highstakes daylong appearance that could solidify her hold on the Democratic nomination or raise doubts about her candidacy Clinton also is certain to face questions about her use of a private email account and server while serving as secretary of state \\n \\n The committee also faces a makeorbreak moment The panels chairman Rep Trey Gowdy of South Carolina and other Republican investigators know their questioning of Clinton could revive the beleaguered panels credibility or undermine it even further \\n \\n A new Associated PressGfk poll offers solace to both sides While the investigation into the attacks is a burning issue for Republicans but not the broader public Americans are more likely to view the investigation as justified rather than as a political attack on Clinton the poll finds \\n \\n Many Americans dont have an opinion about Clintons handling of the investigation Four in 10 say they neither approve nor disapprove of how she has answered questions about the attack while 20 percent approve and 37 percent disapprove \\n \\n Americans also are divided on Clintons emails More than half of those polled view her use of a private server as a minor problem or no problem at all compared with 1 in 3 who think it is a major problem Nearly twothirds of Republicans call it a major problem \\n \\n Gowdy pledged in a recent interview that the hearing will be Benghazicentric focused on security before and during the attacks Some questions on Clintons emails are likely Gowdy said but he maintains that his approach may shock you with fairness \\n \\n Clinton has said the use of a private server was a mistake \\n \\n The hearing comes amid an escalating partisan feud on the 12member committee which has spent more than 45 million since its creation in May 2014 \\n \\n Democrats have complained about selective and outofcontext leaks that they said mischaracterized testimony by top Clinton aides and other witnesses They say the panel has devolved into partisan harassment intended to hurt Clintons bid for president \\n \\n Gowdy and other Republicans say the panel has been and remains focused on those killed in Benghazi and on providing a definitive account of the attacks There have been seven previous investigations \\n \\n This has never been political for us said Rep Martha Roby RAla a member of the Benghazi panel This has always been about finding out the truth \\n \\n While Thursdays hearing has drawn worldwide attention the investigation isnt solely about Secretary Clinton Shes just one piece of a much larger investigation Roby said \\n \\n Rep Adam Schiff DCalif said the committee has been a bust \\n \\n After 17 months and millions of taxpayer dollars spent the Select Committee on Benghazi has uncovered nothing that alters our core understanding of the facts as revealed by the other seven investigations said Schiff who has called for the committee to be disbanded \\n \\n When you consider the committees obsessive focus on attacking Secretary Clinton the reason becomes quite clear the GOP majority has little interest in the events in Benghazi except to the degree they can be used to diminish her standing in the polls Schiff said \\n \\n  \\n \\n Follow Matthew Daly httptwittercomMatthewDalyWDC  Play Facebook \\n \\n Twitter \\n \\n Embed The 4 Types of Benghazi Attack Lines That GOP Candidates Use 111 autoplay autoplay Copy this code to your website or blog \\n \\n By a nearly 2to1 margin Americans say they\\u2019re unsatisfied with Hillary Clinton\\u2019s response to the 2012 terrorist attack in Benghazi Libya according to results from a new NBC NewsWall Street Journal poll \\n \\n But a plurality of respondents believe that the congressional investigation into the attack is unfair and politically motivated \\n \\n And the public is essentially divided over the importance of Clinton\\u2019s private email server with 47 percent of Americans saying it\\u2019s an important factor in deciding their vote and another 44 percent saying it isn\\u2019t important \\n \\n These findings come ahead of Clinton\\u2019s testimony Thursday before the House Select Committee on Benghazi where the 2012 terrorist attack Clinton\\u2019s private email server and allegations even from fellow Republicans that the committee was established to hurt Clinton\\u2019s presidential campaign will all be subjects of discussion \\n \\n The US Consulate in Benghazi Libya is seen in flames after an attack that killed four Americans in 2012 while Hillary Clinton served as secretary of state ESAM OMRAN ALFETORI  Reuters \\n \\n And the findings in the poll tend to break down by party line \\n \\n Fortyfour percent of Americans say that they\\u2019re not satisfied with Clinton\\u2019s response to the Benghazi attack in 2012 when Clinton served as secretary of state That includes 77 percent of Republican respondents 40 percent of independents but just 14 percent of Democrats \\n \\n By contrast 27 percent of Americans are satisfied with her response \\u2013 including 51 percent of Democrats 18 percent of independents but just 6 percent of Republicans \\n \\n Read the full poll here \\n \\n Meanwhile 36 percent of Americans think the current congressional investigation into the Benghazi attacks is unfair and too partisan that includes 53 percent of Democrats 29 percent of Americans believe it\\u2019s fair and impartial including 50 percent of Republicans and another 35 percent don\\u2019t know enough \\n \\n Regarding Clinton\\u2019s private email server 47 percent say it will be an important factor in their upcoming vote versus 44 percent who disagree \\n \\n And once again these numbers are divided by party 76 percent of Republicans believe Clinton\\u2019s private server is important to their vote while 70 percent of Democrats say it isn\\u2019t important \\n \\n Clinton\\u2019s generalelection standing improves slightly \\n \\n The NBCWSJ poll also finds that Clinton has slightly improved her generalelection standing She leads Republican Ben Carson by two points in a hypothetical match up 47 percent to 45 percent But a month ago Carson had a onepoint edge over Clinton 46 percent to 45 percent \\n \\n Clinton also leads Marco Rubio by one point 46 percent to 45 percent and Ted Cruz by eight points 49 percent to 41 percent \\n \\n By comparison Democratic rival Bernie Sanders is ahead of Carson by one point 44 percent to 43 percent Rubio by four points 45 percent to 41 percent and Cruz by 12 points 50 percent to 38 percent \\n \\n The NBCWSJ poll shows a generic Democrat holding a onepoint advantage a generic Republican in a presidential contest 41 percent to 40 percent it was 38 percent to 38 percent a month ago \\n \\n Comparing Clinton\\u2019s and Sanders\\u2019 attributes \\n \\n When Democratic primary voters were asked to judge Clinton and Sanders on several different attributes Clinton\\u2019s top attributes in the poll were being knowledgeable and experienced to handle the presidency 88 percent gave her high marks here versus 56 percent for Sanders and sharing your positions on issues 71 percent for Clinton 55 percent for Sanders \\n \\n Clinton\\u2019s worst attributes among Democratic voters bringing real change to the direction of the country 58 percent give Clinton high marks here versus 58 percent for Sanders and being honest and straightforward 53 percent for Clinton 72 percent for Sanders \\n \\n And only 26 percent of all voters give Clinton high marks for being honest and straightforward compared with 50 percent who give her bad marks  essentially unchanged from the April NBCWSJ poll \\n \\n Democratic Party vs GOP In the mainstream or not \\n \\n The new NBCWSJ poll also measured which political party was in the mainstream \\u2013 or outside the mainstream \\u2013 on six different issues \\n \\n Gay marriage 63 percent said the Democratic Party was in the mainstream on this issue versus just 29 percent who said that about the Republican Party \\n \\n Abortion 54 percent said Democrats were in the mainstream here versus 33 percent who said Republicans \\n \\n Climate change 54 percent mainstream for Democrats 30 percent mainstream for Republicans \\n \\n Immigration 46 percent mainstream for Democrats 43 percent mainstream for Republicans \\n \\n Fiscal issues such as taxing and spending 47 percent mainstream for Republicans 42 percent mainstream for Democrats \\n \\n Guns 51 percent mainstream for Republicans 38 percent mainstream for Democrats \\n \\n Obama jobapproval rating 46 percent \\n \\n Finally the poll finds 46 percent approving of President Obama\\u2019s job compared with 49 percent who disapprove  it was 47 percent47 percent a month ago \\n \\n The NBCWSJ poll was conducted Oct 1518 of 1000 adults including nearly 400 via cell phone and it has an overall margin of error of plusminus 31 percentage points  Photo \\n \\n Q What is the mission of the House Select Committee on Benghazi \\n \\n A The Select Committee on the Events Surrounding the 2012 Terrorist Attack in Benghazi Libya as the panel is officially known was created in May 2014 to look into what happened before during and after the 2012 attack on two American outposts \\u2014 one belonging to the State Department the other to the CIA \\u2014 in Benghazi Seven congressional panels had investigated the attacks but Speaker John A Boehner said the administration had covered up what occurred Democrats said that Mr Boehner created the committee to serve as a vehicle to undermine Hillary Rodham Clinton\\u2019s presidential campaign \\n \\n Mr Boehner appointed Representative Trey Gowdy a former federal prosecutor popular with the conservative wing of the Republican Party to lead the committee The panel received little attention until March 2015 when it was revealed that it had been given emails about Libya from a personal email account that Mrs Clinton had exclusively relied on when she was secretary of state \\n \\n Q What questions will Mrs Clinton face about the Benghazi attacks \\n \\n A Lawmakers are likely to focus on Mrs Clinton\\u2019s response to early warnings of increasingly dangerous security conditions in Benghazi \\u2014 warnings that department officials failed to heed an independent inquiry into the attack concluded in December 2012 That inquiry sharply criticized the State Department for a lack of seasoned security personnel and for relying on untested local militias to safeguard the compound But the report did not place blame on anyone higher than the level of assistant secretary \\n \\n Mrs Clinton has acknowledged that she was briefed on a series of events that indicated that security in Benghazi was deteriorating in the months before the attack But she said she had gone along with a recommendation from subordinates that the Benghazi State Department post be kept open and assumed that they would take the necessary steps to protect it \\n \\n Q What do we still not know about the Benghazi attack \\n \\n A Republicans contend that the administration has not provided an answer about why Susan E Rice the national security adviser who at the time was the United States ambassador to the United Nations went on national television the Sunday after the attacks and provided an inaccurate account about what occurred Ms Rice said that the attacks were spontaneously spawned by an antiAmerican video and were not preplanned by terrorists Mrs Clinton will probably be asked about the administration\\u2019s initial narrative about the attacks And she will likely be asked why the administration had Ms Rice appear on television instead of the secretary herself \\n \\n Q If the committee is investigating the attacks why is Mrs Clinton going to be asked about her emails \\n \\n A The emails about Libya that the committee received had never been provided to any of the congressional committees that investigated the attacks Mr Gowdy has said that he has the right to investigate Mrs Clinton\\u2019s email arrangement because the committee\\u2019s charter calls for him to look into how the administration complied with other congressional inquiries into the incident Mrs Clinton and Democrats on the committee have said that Mr Gowdy has no right to investigate her emails because they are not related to the attacks \\n \\n Advertisement Continue reading the main story \\n \\n Q What do the Republicans need to do for the hearing to be considered a success for them \\n \\n A The Republicans need to placate their base without appearing overly partisan It is unclear if they can do both The base would like to see the committee embarrass Mrs Clinton and get her to make a significant gaffe or admit to some type of wrongdoing But if the committee members appear overzealous they will open themselves up to criticism from Democrats who will argue that the Republicans are just trying to undermine Mrs Clinton\\u2019s campaign \\n \\n Q If Mrs Clinton is having a good day what will that look like \\n \\n A Mrs Clinton\\u2019s biggest challenge is to appear composed and patient during many hours of questioning Some Democrats believe that the Republicans will spend the first several hours of the hearing asking Mrs Clinton about the Benghazi attacks as a way to wear her down and then question her about emails in the final round \\n \\n The last time Mrs Clinton testified before Congress was in 2013 when she appeared before House and Senate committees looking into the Benghazi attacks That day Mrs Clinton accepted responsibility for the security lapses in Benghazi but said that requests for additional security at the State Department outpost were not sent directly to her At one point she became exasperated with the questioning and said there was too much focus on how the Benghazi attacks had been characterized in their early hours \\u201cWas it because of a protest or was it because of guys out for a walk one night who decided they\\u2019d go kill some Americans\\u2019\\u2019 she said her voice rising \\u201cWhat difference at this point does it make\\u201d \\n \\n Q What do we still not know about Mrs Clinton\\u2019s private email account \\n \\n A It is still unclear who at the State Department gave Mrs Clinton approval to use a private rather than an official government account It is also unclear why Mrs Clinton did not hand her emails over to the State Department when she left office in 2013  Democratic presidential frontrunner and former Secretary of State Hillary Clinton was grilled for hours today before the House Select Committee investigating the 2012 Benghazi attack in Libya that killed US Ambassador Chris Stevens and three other Americans \\n \\n Interested in  Add as an interest to stay up to date on the latest news video and analysis from ABC News Add Interest \\n \\n Washington observers and political junkies have been fixated on this testimony for months waiting in anticipation to see what impact it may have on her campaign \\n \\n The testimony featured fireworks from members of congress on both sides of the aisle and left Clinton in the hot seat for around 11 hours including breaks beginning just after 10 am and wrapping at 9 pm All told she spent more than 8 hours testifying \\n \\n Some of the strongest testimony so far most likely to be seized upon by critics of Clinton was the exchange with Rep Jim Jordan ROhio Jordan pointed to two emails  the first was a note providing a readout of a call between Clinton and the Egyptian prime minister sent on Sept 12 2012 the day after the Benghazi attack The email quotes Clinton as having said \\u201cWe know the attack in Libya had nothing to do with the film It was a planned attack  not a protest\\u201d \\n \\n This is significant because it is new evidence directly from Clinton that supports Republican claims that the administration had strong reasons to believe the attack was planned well before US Ambassador to the United Nations Susan Rice went on television a week later and claimed it was motivated by an antiIslam video \\n \\n The second email is from Clinton to Diane Reynolds an alias used by Chelsea Clinton on Sept 11 the day of the attack in which she wrote \\u201cTwo of our officers were killed in Benghazi by an al Qaedalike group The Ambassador whom I handpicked and a young communications officer on temporary duty w a wife and two young children Very hard day and I fear more of the same tomorrow\\u201d \\n \\n This email also shows she was making a direct assessment at least in private that this had to do with alQaeda and not a protest This is important to Republicans and will serve to further their belief that much of the response to the Benghazi attack was calculated to protect Obama politically \\n \\n Clinton had a clear response \\u201cWhen I was speaking to the Egyptian prime minister or in the other two examples you showed we had been told by Ansar alSharia a militia group that they took credit for it It wasnt until about 24 more hours later that they retracted taking credit for it she said \\n \\n Clinton also defended herself by saying she was sorry her version of events didn\\u2019t fit your narrative \\n \\n Why didnt you just speak plain to the American people Jordan asked \\n \\n I did Clinton replied If you look at my statement as opposed to what I was saying to the Egyptian prime minister I did state clearly I said it again in more detail the next morning as did the president \\n \\n That was just one exchange in a hearing that began with heated opening statements from Gowdy and the ranking Democrat on the committee Rep Elijah Cummings DMaryland Gowdy said that previous investigations into the Benghazi attack were \\u201cnot thorough\\u201d and blamed Democrats on the Benghazi Committee for not taking the current investigation seriously \\n \\n Cummings fired back in his opening statement \\u201cClearly it is possible to conduct a serious bipartisan investigation What is impossible is for any reasonable person to continue denying that Republicans are squandering millions of taxpayer dollars on this abusive effort to derail Secretary Clinton\\u2019s presidential campaign Cummings said \\n \\n Gowdy denied those claims directly to Clinton \\n \\n \\u201cI understand there are people frankly in both parties who have suggested that this investigation is about you\\u201d Gowdy said \\u201cLet me assure you it is not and let me assure you why it is not This investigation is about four people who were killed representing our country on foreign soil It is about what happened before during and after the attacks that killed them\\u201d \\n \\n Gowdy said her testimony had been delayed not because they wanted to hurt her politically but because of her private email account that made it so difficult to request her records from the State Department \\n \\n \\u201cMadame secretary not a single member of this committee signed up to investigate you or your email We signed up to investigate and therefore honor the lives of four people that we sent into a dangerous country to represent us Gowdy said \\n \\n ABC News \\n \\n In Clinton\\u2019s opening remarks she reiterated that she knew Ambassador Stevens personally and was the one who asked him to serve in Libya She said the US government needs bipartisan agreement when it comes to foreign policy despite disagreements \\n \\n \\u201cMy challenge to you members of this committee is the same challenge I put to myself Lets be worthy of the trust the American people have bestowed upon us They expect us to lead to learn the right lessons to rise above partisanship and to reach for statesmanship\\u201d Clinton said \\n \\n Gowdy deferred to one of his colleagues and elected not to conduct the first round of questions Rep Peter Roskam RIllinois asked the first questions He chose to focus on why the US was in Libya to begin with but the premise of his questions was lost after repeatedly interrupting himself to remark on Clinton\\u2019s use of notes \\n \\n \\u201cI can pause while you read your notes from your staff\\u201d Roskam said \\n \\n Before turning on her microphone Clinton remarked that she is capable of doing more than one thing at a time \\n \\n Later during the hearing Rep Mike Pompeo RKansas had a contentious exchange with Clinton on a number of topics \\n \\n Pompeo asked why no one had been fired after an attack that killed a US ambassador for the first time in over 30 years He also wanted to know why journalist Sidney Blumenthal had such good access to Clinton while as Pompeo alleges those who worked for her did not share that same access \\n \\n Clinton said Blumenthal was a friend who was simply sharing information and was not working for the US government Some of that information she passed on and some she did not Clinton said She later said he was not her main adviser on Libya as many of her critics have alleged \\n \\n Rep Susan Brooks RIndiana used email printouts as a prop suggesting there were not enough emails about certain events leading up to the attack eliciting a response from Clinton that most of the communication she had was not done over email \\n \\n Rep Martha Roby RAlabama tried to pin Clinton down over a Feb 9 2012 email from State Department staffers that suggested Clinton was unaware if the US had a presence in Benghazi at all Clinton said the people who sent that email were not members of her staff and that they got it wrong \\n \\n \\u201cOf course I knew we had a presence in Benghazi\\u201d Clinton said \\n \\n Rep Adam Smith DWashington used his time to attack the committee forcefully He said the committee had an obsession over her email evidenced by the questions so far He attacked Gowdy\\u2019s opening statement saying it offered no new facts and said he didn\\u2019t think there was a need to form the committee in the first place He criticized Roskom for using his time to ask a series of questions about why the US was in Libya \\n \\n \\u201cThat\\u2019s not about Benghazi\\u201d Smith said then saying to Clinton \\u201cThey are making this about you \\n \\n In one emotional exchange Rep Adam Schiff DCalifornia asked Clinton what it was like to be the subject of an allegation that you deliberately interfered with security that cost the life of a friend \\n \\n Congressman its a very personally painful accusation It has been rejected and disproven by nonpartisan dispassionate investigators Clinton said Nevertheless having it continued to be bandied around is deeply distressing to me I lost more sleep than all of you put together I have been racking my brain about what more could have been done \\n \\n ABC News \\n \\n The line of questioning about Sidney Blumenthal that erupted into fireworks between Gowdy and Cummings before the lunch break continued in the afternoon with Republicans attempting to argue that Blumenthal had unfettered access to Clinton at all times while someone like Ambassador Stevens did not Clinton is strongly rejected that assertion saying Stevens would have had a variety of ways to contact her office \\n \\n I have said it before and I will say it again Ill say it as many times as is necessary to respond Chris Stevens communicated regularly with the members of my staff He did not raise security with the members of my staff Clinton said I communicated with him about certain issues He did not raise security with me He raised security with the security professionals Now I know thats not the answer you want to hear because its being asked in many different ways by committee members But those are the facts Mr Chairman \\n \\n Democrats on the committee used their time for the most part to question the integrity of the committee Adam Smith again led the charge \\n \\n \\u201cThe one thing said that is clearly the farthest from the truth is that this is not a prosecution Smith said If you listen to the other side this is unquestionably exactly that  a prosecution  If we can learn something new about what happened in Benghazi that might be helpful but right now this committee is not doing a service to the four people who died or their families or to preventing any of these future incidents from happening\\u201d \\n \\n Later in the hearing Roskam added a dramatic flare \\n \\n Whats your responsibility to Benghazi Thats my question Roskam said \\n \\n Clinton replied Well my responsibility was to be briefed and to discuss with the security experts and the policy experts whether we would have a post in Benghazi Whether we would continue it Whether we would make it permanent As I said repeatedly throughout the day no one ever recommended closing the post in Benghazi \\n \\n No one recommended closing but you had two ambassadors that made several several requests and here is basically what happened to their requests Roskam said ripping up paper in front of Clinton They were torn up \\n \\n Well thats just not true congressman Clinton said \\n \\n The leadup to todays testimony has seen vicious political sniping from Democrats on the committee who have seized on remarks in recent days from two Republican congressman and one former committee staffer each of whom suggested publicly that the committee has disproportionately focused its attention on attacking Clinton \\n \\n Gowdy has vehemently denied those claims calling on his colleagues to shut up about what they dont know Last Sunday Gowdy said in an interview with CBS he plans to question Clinton about her role in denying requests to increase security at the US consulate in Benghazi prior to the attack He said thousands of previously unseen emails to and from Stevens obtained by his committee will help inform those questions \\n \\n The House Select Committee on Benghazi was created in May of 2014 with the purpose of conducting a full and complete investigation of the 2012 attack Prior to Clintons testimony today the committee had held only three public hearings Most of the testimony it has received so far has come in private sessions \\n \\n The aftermath of the Sept 11 2012 attack on a US consulate in Benghazi and the nearby CIA annex instantly became a source of political tension President Obama faced questions about the military response allegations he misled the public about the nature the attack and lax diplomatic security in a war zone all as he awaited a vote on his reelection the following month \\n \\n Numerous investigations and reports were written about what happened both on that night and in the lead up to the attack and what needed to be done to ensure it wouldnt happen again Two of the higherprofile reports were conducted by the Accountability Review Board ARB convened by Clinton herself who was Secretary of State at the time and another later on by the Republicanled House Intelligence Committee \\n \\n In December of 2012 the ARB concluded that there was no protest before the attack which the Obama administration has previously alleged that the terrorist bore sole responsibility for the loss of life and that systematic failures of leadership and management deficiencies at the State Department led to an inadequate security posture \\n \\n Clinton was never directly implicated in the report Clinton has admitted that the State Department could have done more to address security needs in Benghazi prior to the attack but said those decisions were left to other people and she has denied any wrongdoing \\n \\n Evan VucciAP Photo \\n \\n The House Permanent Select Committee on Intelligence focused on the CIAs response to the attack following accusations personnel on the ground were instructed to delay their response to the consulate which was being overrun by militants less than one mile way The report concluded that no such order had been given despite contradictory witness accounts given by some contracted security officers who were there that night It also concluded that a mixed group including Al Qaeda affiliates were responsible for the attacks It found that there had been intelligence to support the administrations claims that the attack was borne out of a protest but said there was early intelligence to counter that false assessment as well The report declared itself as the definitive House statement on the Intelligence Communitys involvement in the Benghazi attack \\n \\n Get realtime updates as this story unfolds To start just star this story in ABC News phone app Download ABC News for iPhone here or ABC News for Android here\"\n        ],\n        \"semantic_type\": \"\",\n        \"description\": \"\"\n      }\n    },\n    {\n      \"column\": \"summary\",\n      \"properties\": {\n        \"dtype\": \"string\",\n        \"num_unique_values\": 44972,\n        \"samples\": [\n          \"\\u2013 A defrocked priest at the heart of Bostons Catholic clergy sex abuse scandal was released from prison Friday and settled into an apartment across the street from a childrens dance studio Paul Shanley who was convicted of raping a boy in the 1980s moved to the town of Ware 65 miles west of Boston after his release from the Old Colony Correctional Center where he served a 12year sentence Shanley 86 used a cane and was helped by a man as he arrived in Ware His new home in a multiunit building is across from a recently opened dance studio that teaches children as young as 2 The studios owner Arielle Lask said she plans to install stateoftheart security systems and to make sure every child leaves with an adult \\u201cIt\\u2019s terrible  that he\\u2019s moving across the street but there\\u2019s nobody who is better to be his neighbor than me because all I do is make kids safe Lask tells the Boston Herald As a condition of Shanleys 10year probation the AP reports that he has been ordered to have no contact with children under age 16 Ware police Chief Shawn Crevier said Shanley has registered as a sex offender though psychologists citing Shanleys advanced age and health issues concluded his likelihood to reoffend is low Im sure that law enforcement will ensure that the community feels safe and I have every expectation that they are going to  be certain that Paul Shanley also remains safe says Shanleys lawyer Paul Shanley should be in a hospital being treated and not in the outside world where he can easily gain access to innocent children argues an attorney who represented dozens of Shanleys accusers\",\n          \"\\u2013 Women suffering from a heart attack seem to have a better chance of survival if theyre treated by a female doctor according to a new study in PNAS Using data on 582000 heart attack patients admitted to Florida emergency rooms from 1991 to 2010 researchers found that women treated by male doctors were 15 less likely to survive than males treated by female doctors Reuters frames it this way If 1000 women went to the ER with a heart attack 15 more would die if treated by a man Survival rates also increased if there were many female physicians in the ER suggesting that female doctors assist their male colleagues in diagnosis per the Guardian So whats going on Since heart disease is often cast as a male condition male physicians might not pick up on the atypical presentation symptoms women more often show or at least not to the degree that female physicians do says lead author Brad Greenwood While more research is needed the key takeaway is that male physicians appear to have trouble treating female patients he adds That doesnt mean female patients should seek out female doctors who presided over just 10 of the study cases per Reuters While calling for better gender diversity in medicine the study authors note that careful evaluations of symptoms could prevent critical delays in treatment Breastfeeding may help the heart\",\n          \"\\u2013 A new UN analysis finds that at least 60000 people have died in the Syria conflict a much higher number than was expected and one that is truly shocking says the UN human rights commissioner The exhaustive monthslong study compiled data from seven sources to come up with a list of 59648 names as of November And because fighting has continued its safe to say that number is now above 60000 Reuters reports Thats slightly higher than the number of Americans killed in the Vietnam War The last UN estimate in May had the death toll at more than 10000 This new estimate finds that deaths were at 1000 per month in the summer of 2011 but had risen to more than 5000 per month by this past summer And the violence continued today with what may have been one of the worst attacks so far alJazeera reports Dozens were killed when a Syrian warplane fired a missile at a gas station near Damascus where people were waiting in line to fill up their cars\"\n        ],\n        \"semantic_type\": \"\",\n        \"description\": \"\"\n      }\n    }\n  ]\n}"
            }
          },
          "metadata": {},
          "execution_count": 14
        }
      ]
    },
    {
      "cell_type": "code",
      "source": [
        "ds_test.head(2)"
      ],
      "metadata": {
        "id": "tIFAYiUIxa82",
        "outputId": "d74ad433-1f69-49f1-8b5e-c8aa01e7ed23",
        "colab": {
          "base_uri": "https://localhost:8080/",
          "height": 112
        }
      },
      "execution_count": 15,
      "outputs": [
        {
          "output_type": "execute_result",
          "data": {
            "text/plain": [
              "                                            document  \\\n",
              "0  GOP Eyes Gains As Voters In 11 States Pick Gov...   \n",
              "1  \\n \\n \\n \\n UPDATE 4192001 Read Richard Metzge...   \n",
              "\n",
              "                                             summary  \n",
              "0  – Its a race for the governors mansion in 11 s...  \n",
              "1  – It turns out Facebook is only guilty of abou...  "
            ],
            "text/html": [
              "\n",
              "  <div id=\"df-d3654d71-8996-41ba-9fc7-607ea23c7e50\" class=\"colab-df-container\">\n",
              "    <div>\n",
              "<style scoped>\n",
              "    .dataframe tbody tr th:only-of-type {\n",
              "        vertical-align: middle;\n",
              "    }\n",
              "\n",
              "    .dataframe tbody tr th {\n",
              "        vertical-align: top;\n",
              "    }\n",
              "\n",
              "    .dataframe thead th {\n",
              "        text-align: right;\n",
              "    }\n",
              "</style>\n",
              "<table border=\"1\" class=\"dataframe\">\n",
              "  <thead>\n",
              "    <tr style=\"text-align: right;\">\n",
              "      <th></th>\n",
              "      <th>document</th>\n",
              "      <th>summary</th>\n",
              "    </tr>\n",
              "  </thead>\n",
              "  <tbody>\n",
              "    <tr>\n",
              "      <th>0</th>\n",
              "      <td>GOP Eyes Gains As Voters In 11 States Pick Gov...</td>\n",
              "      <td>– Its a race for the governors mansion in 11 s...</td>\n",
              "    </tr>\n",
              "    <tr>\n",
              "      <th>1</th>\n",
              "      <td>\\n \\n \\n \\n UPDATE 4192001 Read Richard Metzge...</td>\n",
              "      <td>– It turns out Facebook is only guilty of abou...</td>\n",
              "    </tr>\n",
              "  </tbody>\n",
              "</table>\n",
              "</div>\n",
              "    <div class=\"colab-df-buttons\">\n",
              "\n",
              "  <div class=\"colab-df-container\">\n",
              "    <button class=\"colab-df-convert\" onclick=\"convertToInteractive('df-d3654d71-8996-41ba-9fc7-607ea23c7e50')\"\n",
              "            title=\"Convert this dataframe to an interactive table.\"\n",
              "            style=\"display:none;\">\n",
              "\n",
              "  <svg xmlns=\"http://www.w3.org/2000/svg\" height=\"24px\" viewBox=\"0 -960 960 960\">\n",
              "    <path d=\"M120-120v-720h720v720H120Zm60-500h600v-160H180v160Zm220 220h160v-160H400v160Zm0 220h160v-160H400v160ZM180-400h160v-160H180v160Zm440 0h160v-160H620v160ZM180-180h160v-160H180v160Zm440 0h160v-160H620v160Z\"/>\n",
              "  </svg>\n",
              "    </button>\n",
              "\n",
              "  <style>\n",
              "    .colab-df-container {\n",
              "      display:flex;\n",
              "      gap: 12px;\n",
              "    }\n",
              "\n",
              "    .colab-df-convert {\n",
              "      background-color: #E8F0FE;\n",
              "      border: none;\n",
              "      border-radius: 50%;\n",
              "      cursor: pointer;\n",
              "      display: none;\n",
              "      fill: #1967D2;\n",
              "      height: 32px;\n",
              "      padding: 0 0 0 0;\n",
              "      width: 32px;\n",
              "    }\n",
              "\n",
              "    .colab-df-convert:hover {\n",
              "      background-color: #E2EBFA;\n",
              "      box-shadow: 0px 1px 2px rgba(60, 64, 67, 0.3), 0px 1px 3px 1px rgba(60, 64, 67, 0.15);\n",
              "      fill: #174EA6;\n",
              "    }\n",
              "\n",
              "    .colab-df-buttons div {\n",
              "      margin-bottom: 4px;\n",
              "    }\n",
              "\n",
              "    [theme=dark] .colab-df-convert {\n",
              "      background-color: #3B4455;\n",
              "      fill: #D2E3FC;\n",
              "    }\n",
              "\n",
              "    [theme=dark] .colab-df-convert:hover {\n",
              "      background-color: #434B5C;\n",
              "      box-shadow: 0px 1px 3px 1px rgba(0, 0, 0, 0.15);\n",
              "      filter: drop-shadow(0px 1px 2px rgba(0, 0, 0, 0.3));\n",
              "      fill: #FFFFFF;\n",
              "    }\n",
              "  </style>\n",
              "\n",
              "    <script>\n",
              "      const buttonEl =\n",
              "        document.querySelector('#df-d3654d71-8996-41ba-9fc7-607ea23c7e50 button.colab-df-convert');\n",
              "      buttonEl.style.display =\n",
              "        google.colab.kernel.accessAllowed ? 'block' : 'none';\n",
              "\n",
              "      async function convertToInteractive(key) {\n",
              "        const element = document.querySelector('#df-d3654d71-8996-41ba-9fc7-607ea23c7e50');\n",
              "        const dataTable =\n",
              "          await google.colab.kernel.invokeFunction('convertToInteractive',\n",
              "                                                    [key], {});\n",
              "        if (!dataTable) return;\n",
              "\n",
              "        const docLinkHtml = 'Like what you see? Visit the ' +\n",
              "          '<a target=\"_blank\" href=https://colab.research.google.com/notebooks/data_table.ipynb>data table notebook</a>'\n",
              "          + ' to learn more about interactive tables.';\n",
              "        element.innerHTML = '';\n",
              "        dataTable['output_type'] = 'display_data';\n",
              "        await google.colab.output.renderOutput(dataTable, element);\n",
              "        const docLink = document.createElement('div');\n",
              "        docLink.innerHTML = docLinkHtml;\n",
              "        element.appendChild(docLink);\n",
              "      }\n",
              "    </script>\n",
              "  </div>\n",
              "\n",
              "\n",
              "<div id=\"df-80294f48-a533-43d6-b8b8-58deeaf0ea05\">\n",
              "  <button class=\"colab-df-quickchart\" onclick=\"quickchart('df-80294f48-a533-43d6-b8b8-58deeaf0ea05')\"\n",
              "            title=\"Suggest charts\"\n",
              "            style=\"display:none;\">\n",
              "\n",
              "<svg xmlns=\"http://www.w3.org/2000/svg\" height=\"24px\"viewBox=\"0 0 24 24\"\n",
              "     width=\"24px\">\n",
              "    <g>\n",
              "        <path d=\"M19 3H5c-1.1 0-2 .9-2 2v14c0 1.1.9 2 2 2h14c1.1 0 2-.9 2-2V5c0-1.1-.9-2-2-2zM9 17H7v-7h2v7zm4 0h-2V7h2v10zm4 0h-2v-4h2v4z\"/>\n",
              "    </g>\n",
              "</svg>\n",
              "  </button>\n",
              "\n",
              "<style>\n",
              "  .colab-df-quickchart {\n",
              "      --bg-color: #E8F0FE;\n",
              "      --fill-color: #1967D2;\n",
              "      --hover-bg-color: #E2EBFA;\n",
              "      --hover-fill-color: #174EA6;\n",
              "      --disabled-fill-color: #AAA;\n",
              "      --disabled-bg-color: #DDD;\n",
              "  }\n",
              "\n",
              "  [theme=dark] .colab-df-quickchart {\n",
              "      --bg-color: #3B4455;\n",
              "      --fill-color: #D2E3FC;\n",
              "      --hover-bg-color: #434B5C;\n",
              "      --hover-fill-color: #FFFFFF;\n",
              "      --disabled-bg-color: #3B4455;\n",
              "      --disabled-fill-color: #666;\n",
              "  }\n",
              "\n",
              "  .colab-df-quickchart {\n",
              "    background-color: var(--bg-color);\n",
              "    border: none;\n",
              "    border-radius: 50%;\n",
              "    cursor: pointer;\n",
              "    display: none;\n",
              "    fill: var(--fill-color);\n",
              "    height: 32px;\n",
              "    padding: 0;\n",
              "    width: 32px;\n",
              "  }\n",
              "\n",
              "  .colab-df-quickchart:hover {\n",
              "    background-color: var(--hover-bg-color);\n",
              "    box-shadow: 0 1px 2px rgba(60, 64, 67, 0.3), 0 1px 3px 1px rgba(60, 64, 67, 0.15);\n",
              "    fill: var(--button-hover-fill-color);\n",
              "  }\n",
              "\n",
              "  .colab-df-quickchart-complete:disabled,\n",
              "  .colab-df-quickchart-complete:disabled:hover {\n",
              "    background-color: var(--disabled-bg-color);\n",
              "    fill: var(--disabled-fill-color);\n",
              "    box-shadow: none;\n",
              "  }\n",
              "\n",
              "  .colab-df-spinner {\n",
              "    border: 2px solid var(--fill-color);\n",
              "    border-color: transparent;\n",
              "    border-bottom-color: var(--fill-color);\n",
              "    animation:\n",
              "      spin 1s steps(1) infinite;\n",
              "  }\n",
              "\n",
              "  @keyframes spin {\n",
              "    0% {\n",
              "      border-color: transparent;\n",
              "      border-bottom-color: var(--fill-color);\n",
              "      border-left-color: var(--fill-color);\n",
              "    }\n",
              "    20% {\n",
              "      border-color: transparent;\n",
              "      border-left-color: var(--fill-color);\n",
              "      border-top-color: var(--fill-color);\n",
              "    }\n",
              "    30% {\n",
              "      border-color: transparent;\n",
              "      border-left-color: var(--fill-color);\n",
              "      border-top-color: var(--fill-color);\n",
              "      border-right-color: var(--fill-color);\n",
              "    }\n",
              "    40% {\n",
              "      border-color: transparent;\n",
              "      border-right-color: var(--fill-color);\n",
              "      border-top-color: var(--fill-color);\n",
              "    }\n",
              "    60% {\n",
              "      border-color: transparent;\n",
              "      border-right-color: var(--fill-color);\n",
              "    }\n",
              "    80% {\n",
              "      border-color: transparent;\n",
              "      border-right-color: var(--fill-color);\n",
              "      border-bottom-color: var(--fill-color);\n",
              "    }\n",
              "    90% {\n",
              "      border-color: transparent;\n",
              "      border-bottom-color: var(--fill-color);\n",
              "    }\n",
              "  }\n",
              "</style>\n",
              "\n",
              "  <script>\n",
              "    async function quickchart(key) {\n",
              "      const quickchartButtonEl =\n",
              "        document.querySelector('#' + key + ' button');\n",
              "      quickchartButtonEl.disabled = true;  // To prevent multiple clicks.\n",
              "      quickchartButtonEl.classList.add('colab-df-spinner');\n",
              "      try {\n",
              "        const charts = await google.colab.kernel.invokeFunction(\n",
              "            'suggestCharts', [key], {});\n",
              "      } catch (error) {\n",
              "        console.error('Error during call to suggestCharts:', error);\n",
              "      }\n",
              "      quickchartButtonEl.classList.remove('colab-df-spinner');\n",
              "      quickchartButtonEl.classList.add('colab-df-quickchart-complete');\n",
              "    }\n",
              "    (() => {\n",
              "      let quickchartButtonEl =\n",
              "        document.querySelector('#df-80294f48-a533-43d6-b8b8-58deeaf0ea05 button');\n",
              "      quickchartButtonEl.style.display =\n",
              "        google.colab.kernel.accessAllowed ? 'block' : 'none';\n",
              "    })();\n",
              "  </script>\n",
              "</div>\n",
              "\n",
              "    </div>\n",
              "  </div>\n"
            ],
            "application/vnd.google.colaboratory.intrinsic+json": {
              "type": "dataframe",
              "variable_name": "ds_test",
              "summary": "{\n  \"name\": \"ds_test\",\n  \"rows\": 5622,\n  \"fields\": [\n    {\n      \"column\": \"document\",\n      \"properties\": {\n        \"dtype\": \"string\",\n        \"num_unique_values\": 5620,\n        \"samples\": [\n          \"Photo \\n \\n Many teenagers who never would have smoked cigarettes are now \\u201cvaping\\u201d with flavored ecigarettes leading to a new generation using nicotine at rates not seen since the 1990s a new study suggests \\n \\n The study released Monday in the journal Pediatrics tracked the use of cigarettes and ecigarettes among 5490 California high school seniors who graduated between 1995 and 2014 Ecigarettes do not burn tobacco but are batteryoperated inhalers that heat up and vaporize liquid containing flavors and nicotine a practice known as vaping The liquids used in vaping range in taste from traditional tobacco and menthol flavors to fruity and sweet combinations like gummi bear banana bread and cotton candy \\n \\n When ecigarettes came on the market in 2007 some public health experts hoped that they would serve as a substitute for traditional tobacco products and lead to declines in tobacco use \\n \\n But the data from the latest study conducted by researchers at the University of Southern California tell a different story Ecigarettes do not appear to have made a dent in regular cigarette use \\u2014 the number of high school seniors who reported smoking tobacco in the past 30 days has largely plateaued In 2004 the number of 12th graders who reported smoking tobacco in the past 30 days was 9 percent in 2014 that number was just under 8 percent \\n \\n But the rate of teenagers using nicotine \\u2014 either through tobacco cigarettes or ecigarettes \\u2014 is on the rise About 14 percent of Southern California high school seniors in 2014 said they had smoked or vaped in the last 30 days Researchers say they have not seen similar levels of nicotine use among teenagers since 1995 when 12thgrade smoking rates were 19 percent \\n \\n The numbers suggest that rather than prompting teenagers to replace cigarette smoking with vaping ecigarettes instead have enticed an entirely new group of teenagers to use nicotine While the study focused on California teenagers researchers say the numbers are consistent with national trends \\n \\n \\u201cKids are not just using ecigarettes instead of cigarettes That is what we were frankly hoping to find\\u201d said Jessica BarringtonTrimis the lead author of the study and a postdoctoral scholar research associate in the department of preventive medicine at the USC Keck School of Medicine All of the teenagers that were expected to be using cigarettes in 2014 are using them she said \\u201cand then there is a whole group of kids using ecigarettes on top of that\\u201d \\n \\n The amount of nicotine in the liquids used with ecigarettes \\u2014 often called \\u201cvape juice\\u201d \\u2014 varies and users can purchase liquid with no nicotine or nicotine content ranging from 3 milligrams per milliliter to 18 milligrams per milliliter or even higher While earlier studies have suggested that some teens are using nicotinefree vaping liquids researchers say the majority of teens appear to be using nicotineinfused liquid in their ecigarettes \\n \\n Dr Jonathan Winickoff professor of pediatrics at MassGeneral Hospital for Children and Harvard Medical School who wrote an accompanying paper in Pediatrics said this is the first study of ecigarette use in adolescents to show such a strong longitudinal sample with such a drastic effect \\n \\n \\u201cWe had a trend of decreasing nicotine use\\u201d said Dr Winickoff \\u201cWhat the ecigarette has done is halted that decrease in its tracks\\u2026 We don\\u2019t want a fifth of our high school students graduating with nicotine addiction\\u201d \\n \\n While ecigarettes do appear to be safer than smoking tobacco they are not risk free Nicotine disrupts neurotransmitter activity and is highly addictive particularly in a developing brain And the liquids contain solvents formaldehyde and other ingredients that pose health risks when inhaled \\n \\n While it\\u2019s true that there are nicotinefree vaping liquids the ecigarette industry is not regulated which makes it hard to know what ingredients are actually in any given product Though the Food and Drug Administration recently took jurisdiction over ecigarettes it will be years before any regulations are put into effect Currently many products continue to be made in China with little \\u2014 if any \\u2014 oversight by the United States \\n \\n \\u201cThe FDA has done tests on these vaping products that supposedly do and do not contain nicotine and what is advertised is really not what\\u2019s in the product\\u201d Dr Winickoff said \\u201cWhen the product is labeled as no nicotine they\\u2019ve found nicotine So kids don\\u2019t know what they\\u2019re getting and as a pediatrician it really scares me\\u201d \\n \\n Not everyone agrees that ecigarettes pose a significant risk to teenagers Dr Michael Siegel professor of community health sciences at the Boston University School of Public Health countered that many teenagers say they are using ecigarettes that contain only flavorings and no nicotine and therefore are not getting addicted \\n \\n \\u201cEcigarette use among teenagers is a largely social phenomenon\\u201d he said \\u201cThe fact that you tend to see teenagers doing this in groups not out in the cold vaping alone suggests that ecigarettes are not addictive\\u201d \\n \\n But there is a growing body of research showing that ecigarettes do serve as a gateway to traditional tobacco products Last month the USC researchers also reported in Pediatrics that adolescents who vape are six times more likely to smoke cigarettes in early adulthood as nonusers \\n \\n \\u201cOnce kids get hooked on ecigarettes they are more likely to go on to become cigarette smokers\\u201d said Stanton A Glantz director of the Center for Tobacco Control Research and Education at the University of California San Francisco  Abstract BACKGROUND Adolescent ecigarette use has increased rapidly in recent years but it is unclear whether ecigarettes are merely substituting for cigarettes or whether ecigarettes are being used by those who would not otherwise have smoked To understand the role of ecigarettes in overall tobacco product use we examine prevalence rates from Southern California adolescents over 2 decades METHODS The Children\\u2019s Health Study is a longitudinal study of cohorts reaching 12th grade in 1995 1998 2001 2004 and 2014 Cohorts were enrolled from entire classrooms in schools in selected communities and followed prospectively through completion of secondary school Analyses used data from grades 11 and 12 of each cohort N  5490 RESULTS Among 12thgrade students the combined adjusted prevalence of current cigarette or ecigarette use in 2014 was 137 This was substantially greater than the 90 adjusted prevalence of current cigarette use in 2004 before ecigarettes were available P  003 and only slightly less than the 147 adjusted prevalence of smoking in 2001 P  54 Similar patterns were observed for prevalence rates in 11th grade for rates of ever use and among both male and female adolescents and both Hispanic and NonHispanic White adolescents CONCLUSIONS Smoking prevalence among Southern California adolescents has declined over 2 decades but the high prevalence of combined ecigarette or cigarette use in 2014 compared with historical Southern California smoking prevalence suggests that ecigarettes are not merely substituting for cigarettes and indicates that ecigarette use is occurring in adolescents who would not otherwise have used tobacco products \\n \\n What\\u2019s Known on This Subject Ecigarette use has increased rapidly in recent years among adolescents It is unknown whether ecigarettes are merely substituting for cigarettes or whether ecigarettes are increasing total adolescent tobacco product use via initiation by those who would not otherwise have smoked \\n \\n What This Study Adds The high prevalence of combined ecigarette or cigarette use in 2014 compared with historical Southern California smoking prevalence suggests that ecigarette use is occurring in adolescents who would not otherwise have used tobacco products \\n \\n Since the introduction of electronic cigarettes into the US market in 20071 adolescent use has increased rapidly particularly in the past several years Data from the National Youth Tobacco Survey NYTS a nationally representative crosssectional survey of adolescents in the United States show that current past 30day use of ecigarettes increased exponentially from 11 in 2011 to 160 in 2015 among high school students2\\u20136 While the prevalence of ecigarette use is increasing cigarette use is generally declining among adolescents in the NYTS current cigarette use among high school students fell from 158 in 2011 to 92 in 20142356 continuing the decline in prevalence of cigarette use among adolescents from its most recent peak in the mid1990s when the prevalence of current smoking reached 357 Of note the prevalence of cigarette smoking did not continue to decline from 2014 92 to 2015 936 In 2014 current use of ecigarettes surpassed current cigarette use for the first time in several national studies including the NYTS2 and the Monitoring the Future Study8 as well as in a number of local and statelevel studies9\\u201311 including our study of Southern California adolescents12 \\n \\n There are multiple interpretations of recent trends in ecigarette and cigarette use among adolescents Adolescents who otherwise would have smoked may be using ecigarettes instead of cigarettes Alternatively ecigarettes may be recruiting new users who otherwise would not have initiated cigarette use or perhaps any other tobacco product if ecigarettes were not available Recent data from the 2015 NYTS found a small nonsignificant increase in the use of any tobacco product from 2013 to 2015 from 229 to 25326 The increase in overall tobacco product use appears to be largely driven by increases in ecigarette and hookah use in 2013 and 2014 and continued increases in ecigarette use in 2015 along with no decline in cigarette smoking from 2014 to 201523 Although these data provide insight into trends over the preceding 3 years adolescent tobacco use has declined for 20 years7 The impact of ecigarettes on adolescent tobacco use trends that have evolved over longer periods is unknown \\n \\n We analyzed data from the Southern California Children\\u2019s Health Study CHS a prospective study of 5 cohorts reaching 12th grade in 1995 1998 2001 2004 and 2014 to describe patterns of smoking among adolescents across these years On the basis of historical data on smoking initiation over the course of adolescence in these cohorts we compared the rate of total ecigarette or cigarette use in 2014 to the rate of cigarette use in 2004 before ecigarettes were available we hypothesized that an increase from this benchmark may indicate that ecigarettes are currently being used by adolescents who would not otherwise have smoked if ecigarettes were not available \\n \\n Methods Study Sample The CHS is a prospective cohort study 1993\\u2013present originally designed to study the effects of childhood air pollution exposure13\\u201315 It comprises 5 cohorts of adolescents Cohorts A\\u2013E who were recruited and followed through 12th grade Table 1 Recruitment methods and data collection procedures have been described previously12\\u201315 Briefly participants were enrolled from entire classrooms in schools in selected communities in Southern California1214 in 10th grade Cohort A 1993 seventh grade Cohort B 1993 fourth grade Cohort C 1993 and Cohort D 1996 kindergarten Cohort E1 2003 or first grade Cohort E2 2003 The current analysis uses available data from grades 11 and 12 of each cohort from participants who answered questions about tobacco product use N  5490 11th grade mean age SD  169 04 12th grade mean age SD  179 04 In Cohorts A through D history of cigarette use was collected by inperson interview every year at schools as they were followed over time1516 Among participants in Cohorts A through D with data available from 11th or 12th grade 857 of the sample provided information on smoking history in both 11th and 12th grades and therefore contributed to prevalence estimates in both years 106 contributed to 11th grade analyses only and 37 contributed to 12th grade analyses only In Cohorts E1 and E2 who were separated by 1 grade smoking history was collected every other year so both 11th and 12thgrade subjects were included in the 2014 survey In 2014 smoking history in Cohorts E1 and E2 was collected by selfadministered questionnaires under study staff supervision Cohort A through D subjects were all recruited from the same 12 communities Cohorts E1 and E2 were recruited from 13 communities of which 12 participated in the 2014 data collection and 8 were the same as Cohorts A through D TABLE 1 Grade of Adolescents Included in Each Cohort in Each Year of the CHS 1994\\u20132014 Ethics Statement The study was approved by the University of Southern California Institutional Review Board Written informed consent was obtained before data collection Cigarette and ECigarette Use In all CHS cohorts participants were asked the number of cigarettes or packs of cigarettes that they had smoked in the past 24 hours past week past month past year and in their lifetime In each year participants were classified as current users if they reported smoking \\u22651 cigarettes in the past 24 hours past week or past month participants were classified as ever users if they reported either 1 use in the past year or in their lifetime or 2 listed an age at which they had first smoked This classification was used for all prevalence estimates of cigarette use alone across all cohorts In 2014 smoking history was assessed in Cohort E participants in grades 11 and 12 using the same question as in Cohorts A through D along with 2 additional questions that asked about the age at which each participant had first used a cigarette \\u201ceven 1 or 2 puffs\\u201d and the number of days smoked in the past 30 days In addition use of ecigarettes was assessed for the first time using the new questions Adolescents who had used cigarettes or ecigarettes on at least 1 of the past 30 days were classified as \\u201ccurrent users\\u201d of that product \\u201cEver users\\u201d were adolescents who reported having ever tried a product Analyses evaluating combined product use of cigarettes or ecigarettes in Cohorts E1 and E2 were based on responses to the new questions The prevalence rates both for current and ever cigarette use were quite similar using either set of questions differing by 01 for current use and 16 for prevalence of ever smoking and the results of analyses were not substantively different using either set of questions Therefore in Cohort E we used the prevalence rates derived from the new questions about cigarette use which we have reported previously12 and which were common to those used to assess ecigarette prevalence rates Statistical Analysis Prevalence estimates for ever and current cigarette use were calculated by cohort and grade using the questionnaire items assessed across all cohorts In Cohort E in 2014 we calculated the combined prevalence of cigarette or ecigarette use ever or current which included adolescents who reported use of either product or dual use of both products Logistic regression models were used to estimate smoking prevalence for each cohort by grade with adjustment for selfreported sex ethnicity Hispanic nonHispanic white or other and parental education less than high school education high school graduate some college college degree some graduate school or higher unknownmissing Adjusted models were used to account for the different distribution across cohorts of socioeconomic factors known to be associated with cigarette use These models were applied separately to current smoking and ever smoking The distributions of sex ethnicity and parental education in Cohort E were used as the reference for calculating the adjusted prevalence estimates from the logistic model Logistic regression models were also used to evaluate trends in the prevalence of cigarette use ever or current over calendar time by including year of data collection as a continuous predictor variable in separate analyses by grade Logistic regression models with an interaction term were used to evaluate whether the pattern of cigarette use across cohorts varied by ethnicity or sex In analyses to assess the sensitivity of results to the participation of different Southern California communities in different cohorts we additionally restricted analyses to the 8 communities common to all years of all cohorts and adjusted for community The Statistical Analysis System SAS version 94 was used for analyses and figures were created using Stata version 131 All hypothesis testing was conducted assuming a 05 significance level \\n \\n Results Demographic characteristics for each cohort are shown in Table 2 The earlier cohorts A\\u2013D included a greater proportion of nonHispanic white adolescents 54\\u201359 whereas Cohorts E1 and E2 included more Hispanic adolescents 49\\u201353 The distributions of the highest level of parental education differed among the cohorts TABLE 2 Demographic Characteristics of Participants Enrolled in the CHS by Cohort 1994\\u20132014 N  5490 The adjusted prevalence of current smoking among high school students decreased over time from 1995 to 2014 in both 11th and 12th grades P trend  0001 Fig 1 A and B Among 12thgrade students in Cohort A 1995 the adjusted prevalence of current smoking was 191 prevalence of use decreased to 171 in Cohort B 1998 147 in Cohort C 2001 90 in Cohort D 2004 and 78 in Cohort E 2014 Although the prevalence of current cigarette use was lowest among students in both grades in 2014 the combined prevalence of current cigarette andor ecigarette use was similar to or greater than that for cigarette use alone 10 to 15 years ago before ecigarettes were available Fig 1 A and B For example among 12thgrade students the adjusted prevalence of combined use of either product in 2014 was 137 38 dual users of cigarettes and ecigarettes 39 cigarette only users and 60 ecigarette only users which was similar to the 147 prevalence of cigarette use in 2001 P  54 and nearly 5 percentage points higher than the adjusted prevalence of current cigarette use in 2004 90 P  003 FIGURE 1 Adjusted prevalence estimates among adolescents in the CHS by cohort for current cigarette use all cohorts and current cigarette or ecigarette use Cohort E in A grade 11 and B grade 12 and for ever cigarette use all cohorts and ever cigarette or ecigarette use Cohort E in C grade 11 and D grade 12 1994\\u20132014 The prevalence of ever cigarette use followed similar patterns of an overall decrease over time across Cohort A 1994\\u20131995 to Cohort E 2014 for both 11th and 12thgrade students P trend  0001 Fig 1 C and D However the 11th and 12thgrade prevalence rates for ever cigarette use in 2014 were not statistically significantly lower than the prevalence in Cohort D 10 years earlier in 2003\\u20132004 P  59 056 respectively The prevalence of combined ever use of cigarettes or ecigarettes also surpassed rates of ever cigarette use more than a decade ago Among 12thgrade students the adjusted prevalence of ever use of either cigarettes or ecigarettes in 2014 was 321 substantially higher than the adjusted prevalence of ever cigarette use in 2004 204 P  0001 and slightly higher than the adjusted prevalence in 2001 302 P  41 Among both male and female adolescents the prevalence of cigarette or ecigarette use ever or current in both 11th and 12th grades in 2014 was higher than the prevalence of smoking in 2003\\u20132004 and was generally similar to the prevalence of smoking in 2000\\u20132001 Fig 2 A\\u2013D There was no difference between sexes in these patterns of decline in smoking over time interaction P  05 The prevalence of current and ever use of cigarettes within cohorts was higher among male than among female adolescents with more pronounced differences observed among 12thgrade students combined rates of ecigarette or cigarette use in 2014 were also larger in male than female adolescents FIGURE 2 Prevalence estimates among adolescents in the CHS by cohort and sex for current cigarette use all cohorts and current cigarette or ecigarette use Cohort E in A grade 11 and B grade 12 and for ever cigarette use all cohorts and ever cigarette or ecigarette use Cohort E in C grade 11 and D grade 12 1994\\u20132014 The prevalence of current and ever smoking also decreased over time from 1994 to 2014 among both nonHispanic white adolescents and Hispanic adolescents P  0001 Fig 3 A\\u2013D interaction P for ethnicity 05 In both ethnic groups the combined prevalence of current cigarette or ecigarette use in 2014 exceeded the rate of current cigarette use in 2003 11th grade or 2004 12th grade For example among nonHispanic white 12thgrade students the combined rate of current cigarette or ecigarette use in 2014 in Cohort E was identical to the rate of smoking in 2001 172 50 dual use 44 cigarette only use 78 ecigarette only use the rate of combined use among Hispanic white adolescents in 2014 120 29 dual use 50 cigarette only use 41 ecigarette only use was 3 percentage points higher than the rate of smoking in 2004 88 and only slightly less than the rate of smoking in 2001 138 Similar patterns were observed for ever use in both ethnicities the combined rate of cigarette or ecigarette use in 2014 in 11th and 12thgrade students was higher than the rates of smoking 10 years earlier in both ethnic groups We did observe differences in rates of smoking within cohorts between Hispanic and nonHispanic white study participants Current smoking prevalence was consistently higher among nonHispanic white adolescents than among Hispanic white adolescents Fig 3 A and B but ever use was generally similar or modestly higher among Hispanic white adolescents than among nonHispanic white adolescents Fig 3 C and D In 2014 the combined prevalence of ecigarette or cigarette use both current and ever was greater in Hispanic whites than nonHispanic whites in 11th grade which appears to result from higher prevalence of cigarette only use dual and ecigarette only use was similar across both groups In 12th grade the combined prevalence of ecigarette or cigarette use was greater in nonHispanic whites than Hispanic white youth largely resulting from greater levels of ecigarette and dual product use FIGURE 3 Prevalence estimates among adolescents in the CHS by cohort and by ethnicity for current cigarette use all cohorts and current cigarette or ecigarette use Cohort E in A grade 11 and B grade 12 and for ever cigarette use all cohorts and ever cigarette or ecigarette use Cohort E in C grade 11 and D grade 12 1994\\u20132014 HW Hispanic white NHW nonHispanic white In analyses restricted to the 8 communities with data available across all cohorts trends in prevalence across cohorts and across grades within cohorts as well as the ethnic and sexspecific patterns were similar to those observed in the entire sample data not shown \\n \\n Discussion These Southern California communities have experienced a marked decrease in adolescent cigarette use over the past 2 decades However among both 11th and 12thgrade students the combined prevalence of current cigarette or ecigarette use in 2014 was substantially greater than the prevalence of smoking in 2004 among 12th graders eg 137 and 90 respectively and was almost as high as the prevalence of smoking in 2001 147 for 12th graders This substantially increased combined prevalence of cigarette smoking or ecigarette use in 2014 compared with smoking rates a decade earlier when ecigarettes were not available suggests that ecigarettes are not used only by adolescents who would otherwise be smoking cigarettes If for example the current rates of smoking would not have changed from 2004 to 2014 in the absence of ecigarettes then 12 of adolescents in Southern California the difference between the 78 adjusted prevalence of cigarette use in 2014 and 90 in 2004 may be substituting ecigarettes for cigarettes An additional 47 of ecigarette users the difference between the 137 combined prevalence of ecigarette or cigarette use in 2014 and the 90 prevalence of cigarette use in 2004 likely would not have used cigarettes if ecigarettes were not available under the assumption that the rate of smoking from 2004 to 2014 would not have changed The assumption that smoking rates would not have decreased in the absence of ecigarettes likely makes this estimate of the proportion of ecigarette users who would not otherwise have used cigarettes conservative The general prevalence patterns and the findings compared with the 2004 data were similar among Hispanic and nonHispanic white participants and in male and female participants thus tobacco control interventions geared toward youth are equally needed for youth of both sexes and ethnicities The prevalence of cigarette use or combined use Cohort E only did differ by gender and ethnicity within each cohort Hispanic adolescents were less likely to report cigarette use in each cohort among both 11th and 12thgrade students but as likely to report ever use a pattern consistent with historically reported ethnic comparisons371718 Male respondents were generally more likely to report use of cigarettes ecigarettes or combined use of cigarettes or ecigarettes which is also consistent with previous literature271219 A major strength of this study is the use of 20 years of data collected across 5 cohorts drawn from the same CHS communities to assess patterns of change in cigarette use in Southern California Because all results were adjusted for the Cohort E distribution of raceethnicity sex and parental education it is unlikely that differences across cohorts were influenced by changes in sociodemographic characteristics of the population over time The study is also subject to some limitations Data on use of tobacco products other than cigarettes were not collected from earlier cohorts Thus the contribution of hookah cigarcigarillo pipe or smokeless tobacco use to the prevalence of all tobacco product use in earlier cohorts is not known Data from the NYTS have shown relatively stable prevalence of use of cigars and smokeless tobacco from 2000 to 201220 followed by a decrease in cigar and pipe use and in smokeless tobacco use from 2011 to 20142 Although national results may not be generalizable to Southern California and vice versa we cannot exclude the possibility that ecigarette use is substituting for these combustible tobacco products No data are available on trends in hookah use across the periods of interest in this study but prevalence of hookah use increased in the NYTS from 2011 to 20142 so it seems unlikely that the increase in prevalence of ecigarette use during this period reflects substitution of ecigarettes for hookah use among participants who otherwise would have smoked hookah use in previous cohorts Analyses were restricted to Hispanic youth historically an underrepresented population in tobacco regulatory science research and nonHispanic white youth who comprise the majority of the Southern California population the prevalence estimates were imprecise in other racialethnic groups in our study which made up 20 of the sample Additional research is needed to determine whether similar patterns of product use over time occurred in other racial groups and in other geographic regions Ecigarettes have gained popularity in recent years in part because of availability in a wide variety of flavorings21 that may be appealing to adolescents and young adults22 the perception that ecigarettes are less harmful than smoking23 absence or poor enforcement of regulations on indoor use24 and the recent popularity of productspecific venues that encourage use of these products in social situations such as vape shops25 Such characteristics of ecigarettes may be recruiting new users who are deterred from initiating cigarettes because of concerns about the health hazards of smoking and social stigmatization of cigarette use7 There is concern that the increasing prevalence of ecigarette use could even lead to initiation of smoking among previously nonsmoking adolescent ecigarette users in what has been described as a \\u201cgateway effect\\u201d either as a result of social normalization of alternative product use and smoking behaviors more generally leading to renormalization of smoking or by directly increasing use of cigarettes through establishment of reward seeking behaviors eg nicotine dependence26\\u201330 Although our results demonstrated a decline in cigarette use in the past decade we also have observed a markedly increased likelihood of intention to use cigarettes31 among ecigarette users in the CHS in 2014 who had never smoked results which are consistent with 2 recent studies examining the association of ecigarette use with susceptibility to smoking2830 and recent longitudinal studies that have found that neversmoking ecigarette users were more likely to report use of cigarettes a year later than never ecigarette users32\\u201334 The use of ecigarettes by nonsmoking adolescents poses several potential public health problems First use of ecigarettes containing nicotine may directly contribute to nicotine dependence in late adolescence or early adulthood putting adolescents at risk for lifelong nicotine dependence3536 Use of ecigarettes even without nicotine may normalize tobacco product use behaviors more generally which could then lead to increased rates of addiction via use of other nicotinecontaining products including cigarettes and other harmful combustible tobacco products35\\u201337 Second in addition to lifelong problems associated with nicotine dependence exposure to nicotine in adolescence adversely affects cognitive function and development19 There is also evidence that ecigarettes may generate aldehydes and other toxic chemicals and that flavoring additives may induce adverse respiratory health effects in ecigarette users38 Although the adverse health effects of ecigarettes may be less than those of cigarettes the longterm consequences of ecigarette use are not known because these products have been on the market for less than a decade \\n \\n Conclusions Longitudinal data on emerging adolescent tobacco and alternative tobacco product use including detailed information on topography of ecigarette use and dose of nicotine are needed to understand the role of ecigarettes in nicotine addiction and whether ecigarette users who have not used combustible cigarettes will in the future continue using ecigarettes only quit using tobacco products altogether or progress to combustible cigarette users or dual users of both products However the high combined prevalence of ecigarette use or cigarette use in 2014 compared with historical Southern California smoking prevalence suggests that adolescents are not merely substituting ecigarettes for cigarettes but that ecigarettes are instead recruiting a new group of users who would not likely have initiated combustible tobacco product use in the absence of ecigarettes which poses a potential threat to the public health of adolescent populations  ECigarettes 101 \\n \\n \\n \\n WebMD Feature By R Morgan Griffin WebMD Feature \\n \\n Reviewed by Jennifer Robinson MD \\n \\n WebMD Feature Archive \\n \\n Electronic cigarettes Are they safer than tobacco Or are they a hightech way to hook a new generation on a bad nicotine habit \\n \\n Nobody knows yet \\n \\n Research into the effects of ecigarettes lags behind their popularity But ready or not the era of ecigarettes is here It\\u2019s a booming billiondollar industry  on track to outsell tobacco products within a decade The number of teens and tweens using these products doubled between 2011 and 2012 \\n \\n The time to get informed about these products is now \\n \\n How ECigarettes Work \\n \\n They look like the real thing The end glows as you inhale As you exhale you puff out a cloud of what looks like smoke Its vapor similar to the fog you might see at rock shows says M Brad Drummond MD Hes an assistant professor of medicine at Johns Hopkins University School of Medicine \\n \\n All ecigarettes work basically the same way Inside theres a battery a heating element and a cartridge that holds nicotine and other liquids and flavorings Features and costs vary Some are disposable Others have a rechargeable battery and refillable cartridges \\n \\n Using an ecigarette is called vaping \\n \\n Are They Safe \\n \\n The nicotine inside the cartridges is addictive When you stop using it you can get withdrawal symptoms including feeling irritable depressed restless and anxious It can be dangerous for people with heart problems It may also harm your arteries over time \\n \\n So far evidence suggests that ecigarettes may be safer than regular cigarettes The biggest danger from tobacco is the smoke and ecigarettes dont burn Tests show the levels of dangerous chemicals they give off are a fraction of what youd get from a real cigarette But whats in them can vary \\n \\n Ecigarettes may be less harmful than cigarettes Drummond says But we still dont know enough about their longterm risks or the effects of secondhand exposure \\n \\n Pro and Con \\n \\n Ecigarettes have triggered a fierce debate among health experts who share the same goal  reducing the disease and death caused by tobacco But they disagree about whether ecigarettes make the problem better or worse  Nicotine experimentation could become nicotine addiction for youth who never used any other tobacco products USC study suggests \\n \\n A new USC study debunks the popular belief that electronic cigarettes are merely a substitute for cigarettes among teens Instead the study suggests that some teens who never would have smoked cigarettes are now vaping \\n \\n Ecigarettes which entered the US market in 2007 vaporize liquids that may or may not contain nicotine In 2011 about 15 percent of high schoolers had vaped in the past 30 days according to the National Youth Tobacco Survey Four years later that number skyrocketed to 16 percent \\n \\n A USC study of 5490 high school juniors and seniors shows tobacco use among teens in Southern California is on the rise \\n \\n In 2014 about 14 percent of 12thgraders said they had either smoked or vaped in the previous 30 days A decade earlier  before ecigarettes were sold in the United States  9 percent of surveyed teens in this age group reported that they had smoked said Jessica BarringtonTrimis lead author and a postdoctoral scholar research associate in the Department of Preventive Medicine at the Keck School of Medicine of USC \\n \\n If teenagers who vape are using ecigarettes instead of cigarettes we would have expected to see the decline in smoking rates continue through 2014 BarringtonTrimis said But what weve seen is a downward trend in cigarette use from 1995 to 2004 but no further decrease in cigarette smoking rates in 2014 The combined ecigarette and cigarette use in 2014 far exceeded what we would have expected if teens were simply substituting cigarettes with ecigarettes The data suggest that at least some of the teens who are vaping would not have smoked cigarettes \\n \\n The study published on July 11 in the journal Pediatrics followed five groups of high schoolers who graduated in 1995 1998 2001 2004 and 2014 Researchers collected the history of tobacco use in an individually administered questionnaire \\n \\n Cigarette use is the largest preventable cause of death and disease in the United States Cigarette smoking kills more than 480000 Americans annually according to the Centers for Disease Control \\n \\n An important question in the rapidly evolving landscape of youth tobacco product use is whether ecigarettes are replacing cigarettes said Rob McConnell the studys senior author and professor of preventive medicine at Keck Medicine of USC However use of ecigarettes by youth who would not otherwise have smoked results in exposure to the hazards of inhaled vaporized liquids and flavorings in ecigarettes and may result in exposure to nicotine that can damage the adolescent brain \\n \\n USC is one of 14 US research institutions that received National Institutes of Health funding to establish the Tobacco Centers of Regulatory Science \\n \\n What the numbers suggest \\n \\n The National Youth Tobacco Survey has reported a longterm decline in teen smoking rates followed by a leveling off between 2014 and 2015 \\n \\n The USC study found that the number of 12thgraders in Southern California who had smoked in the past 30 days dropped from 19 percent in 1995 to about 9 percent in 2004 and then leveled off with the rate of smoking just under 8 percent in 2014 \\n \\n But when cigarettes and ecigarettes were combined some 14 percent of high school seniors in 2014 said they had smoked or vaped in the last 30 days \\n \\n Because ecigarettes are perceived as less harmful and less dangerous than combustible cigarettes another concern is that teens may be introduced to nicotine use via ecigarettes BarringtonTrimis said In California where smoking rates are among the lowest in the country the increase in vaping possibly followed by increases in smoking could erode the progress that has been made over the last several decades in tobacco control \\n \\n A perilous experiment \\n \\n In fact older teens who experiment with electronic cigarettes are six times more likely to try regular cigarettes within about a year when compared to those who have never vaped reported BarringtonTrimis and her USC colleagues in a study published last month in Pediatrics \\n \\n Although some eliquid providers say their products do not contain nicotine this industry has not been regulated until just recently The US Food and Drug Administration announced plans to regulate all tobacco products  including ecigarettes cigars and hookah tobacco  in May Last month California became the second state behind Hawaii to raise the age of tobacco purchase  including ecigarettes  from 18 to 21 \\n \\n Ecigarettes may be recruiting a new group of kids to tobacco use BarringtonTrimis said Ecigarettes may be safer than regular cigarettes for adults who are transitioning from smoking to vaping but for youth who have never used any other tobacco products nicotine experimentation could become nicotine addiction \\n \\n  \\n \\n The study was supported by the National Institutes of Health National Cancer Institute and the Food and Drug Administration Center for Tobacco Products P50CA180905  Abstract BACKGROUND There has been little research examining whether ecigarette use increases the risk of cigarette initiation among adolescents in the transition to adulthood when the sale of cigarettes becomes legal METHODS The Children\\u2019s Health Study is a prospectively followed cohort in Southern California Data on ecigarette use were collected in 11th and 12th grade mean age  174 followup data on tobacco product use were collected an average of 16 months later from neversmoking ecigarette users at initial evaluation n  146 and from a sample of neversmoking never ecigarette users n  152 frequency matched to ecigarette users on gender ethnicity and grade RESULTS Cigarette initiation during followup was reported by 404 of ecigarette users n  59 and 105 of never users n  16 Ecigarette users had 617 times 95 confidence interval 330\\u2013116 the odds of initiating cigarettes as never ecigarette users Results were robust to adjustment for potential confounders and in analyses restricted to never users of any combustible tobacco product Associations were stronger in adolescents with no intention of smoking at initial evaluation Ecigarette users were also more likely to initiate use of any combustible product odds ratio  498 95 confidence interval 237\\u2013104 including hookah cigars or pipes CONCLUSIONS Ecigarette use in neversmoking youth may increase risk of subsequent initiation of cigarettes and other combustible products during the transition to adulthood when the purchase of tobacco products becomes legal Stronger associations in participants with no intention of smoking suggests that ecigarette use was not simply a marker for individuals who would have gone on to smoke regardless of ecigarette use \\n \\n What\\u2019s Known on This Subject Three studies have found associations between ecigarette use and subsequent cigarette use in adolescents However the risk of initiation of cigarettes as adolescents reach an age at which the purchase of tobacco products becomes legal is unknown \\n \\n What This Study Adds Adolescents who reported ecigarette use had more than six times the odds of initiating cigarette use as never ecigarette users These findings suggest ecigarette use may increase the risk of smoking during the transition to adulthood \\n \\n Adolescent use of ecigarettes has increased rapidly in recent years1 with several studies reporting higher rates of ecigarette use than combustible cigarette use among high school students in 20141\\u20136 Among high school students in the National Youth Tobacco Survey 134 of adolescents reported past 30day use of ecigarettes in 2014 compared with 92 of adolescents who reported past 30day use of cigarettes1 Among high school students participating in the Southern California Children\\u2019s Health Study CHS we found that 240 had ever tried ecigarettes including 96 who reported use in the past 30 days compared with 187 who had tried cigarettes 57 in the past 30 days 40 of ecigarette users had never smoked a combustible cigarette6 A critical question is whether ecigarette use in adolescents who have never smoked cigarettes will lead to subsequent initiation of cigarette or other combustible product use \\n \\n The initial data addressing this question came from several crosssectional studies that examined the association between ecigarette use and selfreported intention to use cigarettes among adolescents with no previous history of cigarette use using validated survey measures7\\u201313 Ecigarette users representing several age groups and geographic locations had 2 to 4 times the odds of indicating an intention to use cigarettes as never users78 results consistent with those we reported in the CHS9 To date there have been 3 reports from prospective cohort studies examining the relationship between ecigarette use and subsequent initiation of combustible cigarette use in adolescence including a study of 9thgrade students mean age 14114 a second study of 9th and 10thgrade students mean age 14715 and another small study of 16 to 26yearolds with few neversmoking ecigarette users at baseline that was not able to examine associations within specific developmental periods in this age range16 All studies found that ecigarette use was associated with elevated risk of initiation of combustible cigarettes However the risk of initiation of combustible cigarettes is likely to vary by age17 the developmental context of the end of high school is unique because those turning 18 face particular challenges associated with the transition to adulthood including postsecondary education or employment seeking which cooccur at the age 18 years at which the purchase of tobacco products becomes legal \\n \\n We examined whether ecigarette use among older adolescents in the transition to adulthood leads to greater likelihood of initiation of cigarettes as they reach the legal age to purchase cigarettes We used prospective data from the CHS a populationbased cohort of adolescents from whom data on ecigarette use were first collected in grades 11 or 12 mean age 174 in spring of 2014 to examine risk of initiation of combustible tobacco products at followup median 156 months later We hypothesized that neversmoking ecigarette users in this critical age range would be more likely than neversmoking never ecigarette users to begin using combustible cigarettes during the subsequent year \\n \\n Methods Study Design and Sample Participants enrolled in the CHS completed the initial evaluation questionnaire in school classrooms when they were in 11th or 12th grade Questionnaires were completed with study staff supervision between January 2014 and June 2014 when use of ecigarettes was first assessed in the cohort618 To maximize efficiency in the design of the prospective followup study to evaluate the risk of cigarette and other combustible tobacco product initiation associated with ecigarette use we used an exposure frequencymatched cohort study design in which we contacted neversmoking ecigarette users and a sample of neversmoking never ecigarette users to complete a followup questionnaire Fig 1 We attempted to contact all neversmoking ecigarette users n  213 and a randomly selected frequency matched sample of neversmoking never ecigarette users n  213 from among all neversmoking never ecigarette users in the cohort at initial evaluation neverusers were frequency matched to ecigarette users by gender ethnicity and grade 11 or 12 Participants completed an online followup questionnaire between February 2015 and March 2016 Followup questionnaires were completed by 149 700 ecigarette users and 154 723 never ecigarette users 146 ecigarette users and 152 never users provided complete data on their use of cigarettes between initial evaluation and followup and were included in analyses All participants were 18 years of age or older at followup Participants turning 18 were sent a link to the followup online survey by email using email address provided at the 11th and 12thgrade data collection additional attempts to contact participants were made by text message and telephone calls Those not responding or who had not provided other contact information were sent letters soliciting participation to the last known residential address or were contacted through parents or other contacts previously provided by participants FIGURE 1 Selection of participants for assessment of the association between ecigarette use and subsequent initiation of combustible cigarettes Ethics Statement The study was approved by the University of Southern California Institutional Review Board Participants aged 18 or older provided written informed consent Written parental informed consent and student assent were obtained for all CHS participants before data collection in 2014 Measures Tobacco and Alternative Tobacco Product Use At each survey participants were asked whether they had ever tried ecigarettes cigarettes cigars pipes or hookah and the number of days each product was used in the past 30 days6 Participants who had \\u201cnever tried\\u201d a product not \\u201ceven 1 or 2 puffs\\u201d were classified as \\u201cnever users\\u201d Those reporting an age at first use of each tobacco product were classified as \\u201cever users\\u201d of that product All analyses were restricted to never cigarette smokers at initial evaluation Sociodemographic Characteristics Selfadministered questionnaires completed by parents of participants18 were used to assess gender ethnicity Hispanic nonHispanic white other and parental education highest level of education of either parent 12th grade high school diploma or general equivalency diploma some college college degree some graduate school or higher Susceptibility to Cigarette Use Susceptibility to tobacco product use has been defined as the absence of a firm commitment not to smoke101113 In the current study susceptibility to future cigarette use was assessed using validated measures see Supplemental Material Adolescents were classified as having no susceptibility if they responded \\u201cdefinitely not\\u201d to questions about intention to initiate use of cigarettes in the future10 Social Environment The cigarette social environment was evaluated based on the following questions 1 \\u201cHow many of your 4 closest friends use cigarettes\\u201d 0\\u20134 friends 2 \\u201cHow would your best friends act toward you if you used cigarettes\\u201d very unfriendly unfriendly friendly or very friendly and 3 \\u201cDoes anyone who lives with you now use cigarettes\\u201d yesno These factors have been strongly associated with cigarette use17 and more recently have been associated with ecigarette use in the CHS6 Statistical Analysis On the basis of prospectively collected data we used unconditional logistic regression models to evaluate the association between ecigarette use at initial evaluation and subsequent cigarette use at followup Odds ratios ORs and 95 confidence intervals CIs were used to estimate the odds of smoking initiation All models were adjusted for gender ethnicity grade and highest parental education factors that have been associated both with ecigarette use and cigarette use in previous studies1719 Potential confounding by history of combustible tobacco use other than cigarettes at initial evaluation social environment characteristics age at initial evaluation age at followup and time from initial evaluation to followup in months was evaluated on the basis of a change in effect estimate of 10 with inclusion of any of these variables A missing indicator category was included where appropriate Formal tests of interaction were used to evaluate whether effect estimates differed by gender ethnicity Hispanic white nonHispanic white other grade 11 or 12 ever use of hookah a combustible product that has been previously associated with ecigarette use20 yes versus no or susceptibility to smoking at initial evaluation yes vs no Additional analyses evaluated the risk of initiation of any combustible tobacco product cigarettes cigars hookah or pipes associated with ecigarette use at initial evaluation Polytomous regression models were used to evaluate the risk of initiation of cigarette use but no use in the past 30 days and the risk of past 30day cigarette use relative to participants not initiating use of cigarettes In sensitivity analyses models evaluating the risk of initiation of cigarettes were restricted to nonusers of any combustible tobacco product at initial evaluation cigarettes cigars hookah pipes All statistical analyses were based on 2sided hypotheses tested at a 05 level of significance Analyses were performed using SAS 94 Role of the Funding Source The funder had no role in the design and conduct of the study collection management analysis or interpretation of the data or preparation review or approval of the manuscript \\n \\n Results Ecigarette users and never users were similar on matching factors gender ethnicity grade and parental education In adjusted models males were more likely to initiate cigarette use OR  184 95 CI 104\\u2013326 Table 1 Adolescents who were classified as susceptible to cigarette use were more likely to report ecigarette use at initial evaluation OR  248 95 CI 144\\u2013427 and to report cigarette use at followup OR  303 95 CI 171\\u2013539 Having one or more friends who smoked combustible tobacco products also increased the likelihood of ecigarette use at initial evaluation OR  261 95 CI 135\\u2013506 and cigarette use at followup OR  258 95 CI 130\\u2013509 having friends who were friendly to cigarette use was associated with ecigarette use at initial evaluation OR  213 95 CI 124\\u2013365 but not with cigarette use at followup The median age of participants at initial evaluation was 174 years interquartile range IQR 168\\u2013179 median age at followup was 186 years IQR 183\\u2013190 years median time from initial evaluation to followup was 156 months IQR 126\\u2013182 months TABLE 1 Demographic Characteristics of Participants by ECigarette Use at Initial Assessment and by Cigarette Use at Followup N  298 To assess the potential for selection bias we compared sociodemographic characteristics of study participants for whom followup data were obtained with those lost to followup Participants from whom followup data were collected were more likely to have a parent with at least a college education Supplemental Table 5 No notable differences in gender ethnicity grade or susceptibility to cigarette use were observed between retained participants and those lost to follow up Among never ecigarette users at initial evaluation 16 105 reported use of cigarettes at followup among ever ecigarette users at the initial evaluation 59 404 reported use of cigarettes at followup Table 2 The adjusted OR for the association of ecigarette use with subsequent smoking of combustible cigarettes was 617 95 CI 330\\u2013116 After further adjustment for cigar pipe or hookah use at initial evaluation the association of ecigarette use with subsequent smoking was slightly attenuated but still statistically significant OR  548 95 CI 269\\u2013112 Results did not differ appreciably after additional adjustment for social environment characteristics at initial evaluation whether others in the home smoked number of friends who smoked friends\\u2019 attitudes toward smoking age at initial evaluation age at followup or time in months from initial evaluation to followup results not shown Ecigarette users had 549 times 95 CI 268\\u2013112 the odds of initiating cigarette smoking but not having smoked in the past 30 days and 750 times 95 CI 241\\u2013234 the odds of reporting use of cigarettes in the past 30 days at followup compared with never ecigarette users Estimates were based on 39 271 initiators and 18 125 past 30day cigarette users among ecigarette users at baseline compared with 12 79 initiators and 4 26 past 30day cigarette users among never ecigarette users at baseline 2 participants reported initiation of smoking but did not report the number of days smoked in the past 30 days results not tabulated TABLE 2 Association Between ECigarette Use at Initial Assessment in 2014 and Subsequent Cigarette Use at Followup in 2015 Among adolescents who were not classified as susceptible to cigarette use at initial evaluation 362 n  34 of ecigarette users and 57 n  7 of never ecigarette users reported initiation of cigarettes at follow up OR not susceptible  969 95 CI 402\\u2013234 Table 3 In contrast among those who were classified as susceptible to smoking at initial evaluation ecigarette users were only slightly more likely to initiate cigarette use at followup 471 v 321 OR susceptible  212 95 CI 079 574 interaction P  03 We also examined interactions of ecigarette use at initial evaluation with gender ethnicity grade level time from initial contact to completion of followup questionnaire and use of hookah at initial evaluation The risk of initiation of cigarette use associated with ecigarettes did not differ by these characteristics TABLE 3 Association Between ECigarette Use at Initial Assessment in 2014 and Subsequent Cigarette Use at Followup in 2015 by Indication of Susceptibility to Smoking at Initial Evaluation In an analysis restricted to those who reported no use of any combustible tobacco product at initial evaluation ecigarette users were also more likely to initiate use of any combustible tobacco product at followup OR  498 95 CI 237\\u2013104 Table 4 and to initiate use of cigarettes OR  429 95 CI 184\\u2013100 hookah OR  286 95 CI 121\\u2013678 cigars OR  439 95 CI 172\\u2013112 and pipes OR  821 95 CI 120\\u2013562 TABLE 4 Association Between ECigarette Use at Initial Assessment in 2014 and Subsequent Cigarette Use at Followup in 2015 Restricted to Never Users of Any Combustible Tobacco Product \\n \\n Discussion We prospectively evaluated the risk of smoking initiation associated with ecigarette use in the transition to adulthood when it becomes legal to purchase cigarettes In this sample of never cigarette users at initial evaluation 40 of ecigarette users initiated cigarette use during the 16month average followup Those who reported ecigarette use had 6 times the odds of initiating cigarette use as never ecigarette users The associations remained statistically significant after adjustment for use of other combustible tobacco products at study entry and for social environmental factors The increased risk of smoking initiation associated with previous ecigarette use was also observed in sensitivity analyses restricted to neverusers of any combustible tobacco product at initial evaluation moreover risk of subsequent initiation of any combustible tobacco product was also increased Notably the association of ecigarettes with initiation of cigarette use was much stronger among those classified as not susceptible to becoming smokers These findings suggest that ecigarette use may promote smoking during the transition to adulthood even in those considered to be at lower risk because of personal or environmental factors Three studies on the longitudinal association between ecigarette use and subsequent cigarette use among adolescents have been published14\\u201316 In the first among ninthgrade students mean age 141 years with no history of combustible tobacco product use at initial evaluation those who reported ever use of ecigarettes had 175 95 CI 110\\u2013277 times the odds as never users of reporting subsequent use of cigarettes 12 months later and 273 95 CI 200\\u2013373 times the odds of reporting use of any combustible tobacco product after adjustment for ever use of nonnicotine or tobacco substances smoking expectancies whether adolescents think they will enjoy smoking or feel bad from smoking and other potentially confounding characteristics at study entry14 The second study was also among younger youth in grades 9 and 10 at baseline mean age 147 years and found similar results ecigarette users had 287 95 CI 203\\u2013405 times the odds of initiating combustible cigarette use between baseline and followup 1 year later as never users after adjustment for age gender ethnicity parental education parental support and rebelliousness15 The third study found similar prospective associations in adolescents and young adults 16 to 26 years of age who reported being nonsusceptible to smoking at baseline but the estimates were based on only 16 neversmoking ecigarette users at initial evaluation16 The current results extend the literature by showing that these associations generalize to the period at the end of high school Our findings together with those from the other prospective studies of youth and young adult populations suggest that ecigarette use is a clear and consistent indicator of likelihood of subsequent initiation of cigarette and other combustible tobacco product use at ages spanning from early adolescence through emerging adulthood It is possible in principle that ecigarette use among never smoking adolescents is a marker for those who would have begun to smoke even if ecigarettes were not available In these adolescents the availability of ecigarettes use may have delayed the initiation of smoking among those who would have gone on to smoke anyway However the risk of smoking associated with ecigarette use was even higher among participants who reported no intention to smoke at initial assessment than among the group of adolescents who indicated they were likely to begin smoking Among nonsusceptible individuals 36 of ecigarette users initiated cigarette use compared with only 6 of nonusers Table 3 Another recent study found that ecigarette users had different psychological profiles than cigarette users2122 Together these findings suggest that ecigarettes are not merely a marker for individuals who would have gone on to smoke combustible cigarettes regardless of the availability of ecigarettes but that ecigarette use is likely introducing new youth to tobacco products and is increasing the likelihood of future smoking among the lowrisk group who expressed confidence that they would not do so It is also possible that ecigarette users who initiated smoking were more likely to be experimenting with cigarettes and less likely than other initiators to progress to regular cigarette use and nicotine dependence The duration of followup and small sample size particularly among never ecigarette users who began smoking was insufficient to fully address this question However the prospective association of ecigarette use with cigarette use in the past 30 days was similar to that for initiation but no use in the past 30 days These results provide no evidence that ecigarette users who initiate smoking are any less likely to progress to regular use of cigarettes than youth who did not begin tobacco use with ecigarettes There are some uncertainties to the conclusions from this study Participants who were lost to followup were less likely to have a parent with at least a college education However in analyses examining whether the risk of initiation of smoking associated with ecigarette use differed by education no interaction was observed nor were the estimates of effect of ecigarette use on cigarette initiation confounded by education thus differential loss to followup in the cohort seems unlikely to be an explanation for the observed results We did not collect information on type of ecigarette used or nicotine content of ecigarette at initial evaluation factors that may increase the likelihood of transition from ecigarette to cigarette or other combustible tobacco use Although the study addresses a potentially vulnerable age range results may not be generalizable to older populations or to other geographic regions Finally because the rate of initiation of cigarette use in never ecigarette users was low in our Southern California population 105 based on 16 new users the odds ratio associated with ecigarette use was not precisely estimated However the associations were large and highly statistically significant There are several plausible mechanisms through which ecigarette use in adolescence may lead to subsequent initiation of cigarettes or other combustible tobacco products172324 Ecigarettes may lead to initiation of use of other combustible products because flavorings desensitize users\\u2019 lungs to the harsh and aversive effects of nicotine inhalation providing a more gradual transition from never smoking to use of combustible cigarettes or other combustible products Flavorings in combination with devices appealing to youth in this technological age eg \\u201ctechie\\u201d edevices with programmable settings may act to promote smoking initiation among adolescents and may also play a role in product use maintenance or progression to greater levels of use Regular use of nicotine and the development of nicotine dependence may also lead adolescents to seek other forms of nicotine Adolescents first introduced to nicotine via ecigarettes may develop a dependence on nicotine and may then move on to other forms of nicotine including cigarettes or other combustible products Individuals genetically susceptible to the addictive properties of nicotine may be at particularly high risk Finally rapid increases in ecigarette use in adolescent populations have already begun to contribute to the normalization of ecigarette use which indirectly functions to normalize \\u201csmokinglike\\u201d behaviors more generally eg clouds of smokevapor in public places become normative The normalization of these social behaviors may facilitate initiation of cigarette smoking if society becomes more accepting of alternative tobacco product use Future work exploring these and other mechanisms through which ecigarette use in adolescence may influence willingness to initiate cigarette smoking is warranted Regardless of the mechanisms underlying the associations of ecigarettes with cigarette use this research adds much needed data to the emerging evidence that ecigarettes are associated with increased risk of smoking among adolescents Because ecigarette use is common in adolescents and young adults further prospective followup of this and other cohorts is needed to determine whether ecigarette use will increase population rates of cigarette and other combustible tobacco products and their associated burden of disease \\n \\n Footnotes Accepted April 7 2016 \\n \\n April 7 2016 Address correspondence to Jessica BarringtonTrimis PhD 2001 N Soto St 230D Los Angeles CA 90089 Email jtrimisatuscedu \\n \\n FINANCIAL DISCLOSURE The authors have indicated they have no financial relationships relevant to this article to disclose \\n \\n FUNDING Research reported in this publication was supported by grant P50CA180905 from the National Cancer Institute at the National Institutes of Health and the Food and Drug Administration Center for Tobacco Products The funder had no role in the design and conduct of the study collection management analysis or interpretation of the data or preparation review or approval of the manuscript Funded by the National Institutes of Health NIH \\n \\n POTENTIAL CONFLICT OF INTEREST The authors have indicated they have no potential conflicts of interest to disclose\",\n          \"Natasha Exelby has paid a high price for her weekend blooper after the humorless management at ABC24 banned the newsreader from playing any future onair role \\n \\n Exelby who only recently returned from a foreign correspondent and anchor role with Turkish broadcaster TRT World was told Monday she has been axed from newsreading duties after being caught off guard during a live news shift Sunday \\n \\n In video that has since gone viral the former \\u201cWake Up\\u201d cohost is seen looking startled as she suddenly realizes the cameras have returned to her after a prerecorded package has finished \\n \\n It\\u2019s a slipup almost every newsreader in the world has committed but rarely costs the TV presenter their onair job \\n \\n The decision to bench the freelance newsreader and producer comes from the same broadcaster widely criticized for the more serious charge of failing to vet the audience of its panel program \\u201cQA\\u201d and allowing onetime terror suspect Zaky Mallah to join the live TV debate \\n \\n The error described by thenPrime Minister Tony Abbott as \\u201ccompletely incomprehensible\\u201d and compounded when it was rebroadcast on ABC24 saw no one from the program sacked \\n \\n Most viewers laughed off Exelby\\u2019s innocuous gaffe posted by the ABC\\u2019s own Media Watch program \\u2014 it sparked waves of support rather than acrimony for the \\u201cmortified\\u201d news professional \\n \\n SBS newsreader Janice Petersen tweeted a screen grab of herself caught putting lipstick on while live writing in solidarity \\u201cit happens\\u201d \\n \\n Sky News political reporter Samantha Maiden celebrated the human error telling her Twitter followers \\u201cthat\\u2019s NatashaExelby and she\\u2019s awesome She\\u2019s too much for ABCmediawatch Too fabulous\\u201d \\n \\n Exelby told News Corp \\u201cit would be inappropriate for me to comment\\u201d \\n \\n Exelby was told Monday she would no longer be used in an onair role an ABC spokesman said in a statement \\u201cNatasha Exelby is a casual contributor not a staff member She has been booked for occasional onair shifts when needed and also does other occasional shifts for the ABC News channel \\n \\n \\u201cContributors work out their shifts with managers on a per needs basis Details of individuals\\u2019 shifts are confidential to them and not something the ABC publicly comments on\\u201d \\n \\n News Corp is pursuing ABC management for further comment addressing directly her removal from newsreading duties either as a freelancer or otherwise  This article is over 1 year old \\n \\n Freelance journalist Natasha Exelby \\u2018read the riot act\\u2019 and offered more training after series of missteps but will remain in casual production role \\n \\n \\u2018Slipups will happen\\u2019 ABC says presenter won\\u2019t be fired over TV blooper \\n \\n A casual journalist at the ABC Natasha Exelby has been taken off air after she missed her cue on live TV and video of her dramatic reaction went viral \\n \\n The ABC director of news Gaven Morris has denied Exelby is being punished and said reports she had been fired or banned were untrue \\n \\n \\n \\n \\u201cLive television is a demanding art and slipups will happen \\u2013 our presenters are humans not robots\\u201d Morris said \\n \\n \\u201cWe take onair standards extremely seriously but we don\\u2019t expect perfection No one would ever be punished for a blooper and while it isn\\u2019t appropriate to publicly discuss confidential details of people\\u2019s personal work arrangements this has not happened to Natasha\\u201d \\n \\n Morris said he has assured Exelby the ABC wants her to continue working various shifts she has been rostered for \\n \\n \\u201cWhile she is not currently doing any onair shifts this will be subject to normal performance management I have spoken to Natasha and conveyed our regret that this has attracted such attention\\u201d \\n \\n Footage of Exelby playing with her pen then apparently realising she is on air and gasping in horror has endeared her to the public with calls for her to return to Australia\\u2019s TV screens and a petition which had garnered more than 3000 signatures by Tuesday morning \\n \\n The ABC has denied Exelby has been banned or sacked \\n \\n Guardian Australia understands that after a series of missteps including Sunday\\u2019s highprofile blooper she was \\u201cread the riot act\\u201d by news management on Monday \\n \\n Sources said Exelby had been offered more training and may be given onair shifts again at a later stage \\n \\n Natasha Exelby NatashaExelby Thank U all for ur generous support Not my finest hour Myself and my mesmerising pen honourably salute you \\n \\n After the Daily Telegraph reported on Monday that the Queenslandborn journalist had been \\u201cbanned\\u201d the opposition leader Bill Shorten led calls on Twitter for her reinstatement \\n \\n Bill Shorten billshortenmp Its live TV This is just ridiculoushttpstcoxy6dp7nKwi \\n \\n Russell Crowe russellcrowe Come on ABC  Australian Broadcasting Commission  talk about an over reaction to an over reaction  Free NatashaExelby  httpstco4xALx8V5PN \\n \\n Kevin Rudd MrKRudd Dont worry NatashaExelby Just a flesh wound Check out my swearing video if you want a serious blooper Australia wants you back on air pictwittercomRSDTgR1X3U \\n \\n Presenters and other journalists shared stories about their embarrassing mistakes while at work \\n \\n Grant Denyer grantdenyer Nothing wrong with a bit of day dreaming at work NatashaExelby  I fell asleep while on air putyourbloopersout pictwittercom10CE3Cqkph \\n \\n Sally Rawsthorne sallyrawsthorne I asked for an interview with someone who has been dead since 1962 putyourbloopersout \\n \\n Amelia Gilbert ameliagilbert Sorry NatashaExelby but LeeLinChinSBS had the greatest blooper of all time httpstcoSqXtA3S9Sd PutYourBloopersOut \\n \\n It\\u2019s not the first time Exelby has been caught in an inappropriate reaction on live TV Several years ago on Ten she giggled repeatedly while reading serious news items about deaths and disasters \\n \\n Facebook Twitter Pinterest Natasha Exelby giggles while reading the news \\n \\n The ABC would not be drawn on the circumstances of the blooper and released a statement saying Exelby was a casual contributor and not a staff member \\u201cShe has been booked for occasional onair shifts when needed and also does other occasional shifts for the ABC News channel Contributors work out their shifts with managers on a perneeds basis We don\\u2019t comment on the details of people\\u2019s work arrangements\\u201d \\n \\n Exelby is best known as a cohost of the disastrous breakfast show Wake Up on Ten which was launched by the former Seven Sunrise executive producer Adam Boland in late 2012 \\n \\n She was dumped as cohost after just 13 days on air and rockbottom ratings Boland blamed her sudden exit on her \\u201cchemistry\\u201d with the two other cohosts James Mathieson and Natarsha Belling \\n \\n The entire show was axed in May 2014 owing to lacklustre ratings  She has been booked for occasional onair shifts when needed and also does other shifts for the ABC News channel Contributors work out their appearances with managers on a per needs basis Details of individuals shifts are confidential to them and not something the ABC publicly comments on the spokesman said\",\n          \"White House communications director Anthony Scaramucci took a page out of President Trump\\u2019s playbook Wednesday night with a tweet threatening to sic the FBI on a supposed information leaker \\u201cIn light of the leak of my financial disclosure info which is a felony I will be contacting the FBI and the Justice Department\\u201d Scaramucci wrote inexplicably tagging White House Chief of Staff Reince Priebus Scaramucci did not specify what information was leaked but a Politico article cited the incoming communications director\\u2019s required financial disclosure in reporting he earned 49 million since last year from his ownership stake in investment firm SkyBridge Scaramucci appeared to delete the tweet but in a subsequent post said Priebus was among the senior White House officials helping to crack down on leaks  The incoming White House communications director earned 49 million from his ownership stake in SkyBridge  Pablo Martinez MonsivaisAP Scaramucci still stands to profit from SkyBridge from the White House The newly named White House communications director has earned millions from ownership stake since last year according to his financial disclosure \\n \\n Anthony Scaramucci finally has his White House job but he still stands to profit from an ownership stake in his investment firm SkyBridge Capital \\n \\n The incoming White House communications director earned 49 million from his ownership stake in SkyBridge in addition to more than 5 million in salary between Jan 1 2016 and the end of June when he joined the ExportImport Bank according to a financial disclosure filed with the Office of Government Ethics \\n \\n Story Continued Below \\n \\n The disclosure form which is publicly available upon request hasn\\u2019t been previously reported \\n \\n The disclosure highlights the extensive wealth Scaramucci has accumulated in his career \\u2014 much like many of Trump\\u2019s other top advisers and Cabinet secretaries \\u2014 and also the challenge he faces in extracting himself from the potential conflicts his investments could pose \\n \\n Scaramucci\\u2019s financial filing values SkyBridge Capital at more than 50 million and states that he owns nearly 44 percent of the firm When the sale of the company is completed expected to be in the third quarter of this year he will receive \\u201cthe agreedupon purchase price for his share of the sale proceeds\\u201d according to the filing \\n \\n Bloomberg valued the Skybridge deal at between 200 million and 230 million when it was announced in January \\n \\n \\u201cIt\\u2019s black and white that he\\u2019s going to get money\\u201d said Austin Evers executive director at American Oversight a watchdog group that focuses on transparency in government \\n \\n The SkyBridge website continues to advertise Scaramucci as the firms managing director despite the fact that he has been a government employee for more than a month A SkyBridge spokeswoman said Scaramucci stepped down from the executive post Jan 17 when the company\\u2019s sale was announced He remained an employee of the firm collecting a salary until starting at ExIm last month \\n \\n The investment firm which Scaramucci founded in 2005 is in the process of being sold to RON Transatlantic and Chinese conglomerate HNA Group The sale set in motion in January when Scaramucci was shedding his holdings in anticipation of landing an administration job has drawn the scrutiny of regulators and is taking longer than expected to close \\n \\n The interagency Committee on Foreign Investment in the United States is examining the deal to ensure that it carries no risk to national security The panel\\u2019s review which comes amid rampedup scrutiny of business dealings with China ultimately can be overruled by President Donald Trump \\n \\n Scaramucci said Friday his start date wouldn\\u2019t be until August so that everything can be \\u201c100 percent totally cleansed and clean and I don\\u2019t see an issue with it\\u201d \\n \\n White House spokeswoman Natalie Strom referred questions about Scaramucci\\u2019s SkyBridge investment to the Treasury Treasury spokeswoman Marisol Garibay did not respond to requests for comment \\n \\n Scaramucci a Trump fundraiser and frequent campaign surrogate whose appointment to an administration post was delayed in part because of the complicated nature of the SkyBridge sale joined ExIm in June \\n \\n ExIm was seen as a very temporary move a way to get the Trump loyalist to Washington until a higherlevel position could be found according to one White House adviser \\n \\n The bank is across the street from the White House where Scaramucci was free to come and go thanks to security credentials that gave him 24hour access That allowed him to elude the detection of senior White House staffers including chief of staff Reince Priebus \\n \\n Scaramucci has been on unpaid leave from ExIm since the day he started there June 19 a bank spokeswoman said forgoing his 172100 salary as chief strategy officer \\n \\n A friend said Scaramucci thought his stay at the bank would be longerlived and that the White House job came unexpectedly \\n \\n In his disclosure Scaramucci listed assets worth as much as 85 million He has several real estate investments including singlefamily rental homes on Long Island \\n \\n A minority stake in the New York Mets is worth as much as 5 million He also is an investor in Juice Press a chain of snack and smoothie shops in the Northeast \\n \\n Scaramucci earned 200000 in income from a majority stake in Hastings Capital Group according to his financial disclosure That ownership share also will be sold as part of the SkyBridge deal with RON and HNA \\n \\n As a contributor to Fox News Scaramucci earned about 88000 according to his financial disclosure \\n \\n He has three mortgages with US Bank for a total liability of 25 million to 7 million \\n \\n Josh Dawsey contributed to this report  Tweet with a location \\n \\n You can add location information to your Tweets such as your city or precise location from the web and via thirdparty applications You always have the option to delete your Tweet location history Learn more  WASHINGTON \\u2014 In the five days since he was named White House communications director Anthony Scaramucci has vowed to hunt down leakers and fire anyone he catches By the end of his fifth day he was on the receiving end of what he called a leak about himself \\n \\n The financial disclosure form that Mr Scaramucci filed with the government appeared on Politico\\u2019s website on Wednesday night showing that he has assets worth as much as 85 million He made 5 million in salary and another 49 million from his ownership stake in his investment firm SkyBridge Capital in the first six months of this year according to the filing \\n \\n Mr Scaramucci responded angrily \\u201cIn light of the leak of my financial disclosure info which is a felony\\u201d he wrote on Twitter \\u201cI will be contacting FBI and the TheJusticeDept\\u201d \\n \\n He added the hashtag swamp reflecting President Trump\\u2019s promise to drain the swamp and then included the Twitter handle of Reince Priebus the White House chief of staff who opposed Mr Scaramucci\\u2019s appointment last week\"\n        ],\n        \"semantic_type\": \"\",\n        \"description\": \"\"\n      }\n    },\n    {\n      \"column\": \"summary\",\n      \"properties\": {\n        \"dtype\": \"string\",\n        \"num_unique_values\": 5622,\n        \"samples\": [\n          \"\\u2013 Denis Finley has taken to Twitter to call Politico a whore sniff about David Lettermans upcoming Netflix show featuring Barack Obama and call for the destruction of all office buildings but it was his tweets about a potential change to Vermonts drivers licenses that cost him his job as editor of the Burlington Free Press The paper reports Finley was fired by honchos at parent company Gannett on Monday evening after he was found to have repeatedly flouted its social media rules We encourage our journalists to engage in a meaningful dialogue on social media but  the conversation should adhere to our overarching values of fairness balance and objectivity says an exec from the USA Today Network Gannetts main brand Poynter explains Finleys demise came after he reacted to Vermonts proposal to add the gender option X to F and M on drivers licenses The Washington Post documents the Twitter exchange between commenters who were lauding Vermonts decision and Finley After one user noted the news was awesome Finley replied Awesome That makes us one step closer to the apocalypse When someone else tweeted the recognition of different genders was awesome Finley wrote All recognition \\u2026 What if someone said its awesome they are going to recognize pedophiliacs on licenses Im not being snarky Im just asking Poynter notes some readers threatened to cancel their Free Press subscriptions over the tweets Reader engagement is not making provocative statements and then picking fights with people who disagree an editor for a string of other local Vermont papers says Emilie Stigliani the Free Press planning editor will temporarily step in as Finleys replacement\",\n          \"\\u2013 CNNs Piers Morgan thinks gunrights proponent Alex Joness memorable appearance on his show last night made a fine case\\u2014for his opponents He was the best advertisement for gun control you could wish for Morgan tells Politico referring to the conservative radio host That kind of vitriol hatred and zealotry is really quite scary Jones is the guy who started the White House petition to get Morgan deported because of the CNN hosts push for stricter gun laws The White House last night promised to respond to the petition because it easily surpassed the threshold of 25000 signatures notes the Daily Caller But it is worth remembering that the freedom of expression is a bedrock principle in our democracy said spokesman Jay Carney suggesting Jones better not hold his breath Jones himself meanwhile posted a video after his CNN appearance telling supporters that if something happens to us or we\\u2019re killed by crackheads it was the NYPD or mafia they hired reports Mediaite Yeah thats right \\u201cIf you don\\u2019t know that Mayor Bloomberg is total mafia you\\u2019re on another planet\",\n          \"\\u2013 New White House communications director Anthony Scaramucci was not happy about what he believed was a leak of information from his financial disclosure Wednesday\\u2014though it later emerged that the form was available to the public In light of the leak of my financial disclosure info which is a felony I will be contacting FBI and TheJusticeDept swamp Reince45 Scaramucci said in a nowdeleted tweet per the Daily Beast Scaramucci later denied suggestions that his tagging of Reince Priebus was a declaration of war on the White House chief of staff Wrong Tweet was public notice to leakers that all Sr Adm officials are helping to end illegal leaks Scaramucci said in a second tweet The disclosure information believed to have enraged Scaramucci appeared in a Politico report late Wednesday According to the report Scaramucci earned 49 million from his ownership stake in the SkyBridge Capital plus more than 5 million in salary from Jan 1 2016 to the end of June this year when he began a shortlived stint at the federal ExportImport Bank The New York Times notes that Scaramucci filed the disclosure form June 23 and under federal law it would have been available to the public 30 days later They arent in process yet Scaramucci wrote to the Times after being asked why he thought the report had been leaked He didnt respond after being told it would have been available July 23\"\n        ],\n        \"semantic_type\": \"\",\n        \"description\": \"\"\n      }\n    }\n  ]\n}"
            }
          },
          "metadata": {},
          "execution_count": 15
        }
      ]
    },
    {
      "cell_type": "code",
      "source": [
        "  # print(ds['train'][0]['document'][0:3])"
      ],
      "metadata": {
        "id": "hp0fHpt2o49K"
      },
      "execution_count": 16,
      "outputs": []
    },
    {
      "cell_type": "code",
      "source": [
        "# for n in range(0,(len(ds['train'])), 10000):\n",
        "#   # print(ds['train'][n]['document'][0:3]) #test for loop\n",
        "#   ds['train'][n]['document'] = ds['train'][n]['document'].apply(lambda x: remove_punctuation(x))"
      ],
      "metadata": {
        "id": "_wtx0CRZl8Sn"
      },
      "execution_count": 17,
      "outputs": []
    },
    {
      "cell_type": "markdown",
      "source": [
        "# **Remove Stop Words**"
      ],
      "metadata": {
        "id": "sOk1YU40vQVd"
      }
    },
    {
      "cell_type": "code",
      "source": [
        "# from nltk.corpus import stopwords\n",
        "\n",
        "# stop_words = stopwords.words('english')"
      ],
      "metadata": {
        "id": "Ye-9I7dvvBxF"
      },
      "execution_count": 18,
      "outputs": []
    },
    {
      "cell_type": "code",
      "source": [
        "# def remove_stopwords(review):\n",
        "#     review = [word for word in review if word.lower() not in stop_words]\n",
        "#     return ' '.join(review)"
      ],
      "metadata": {
        "id": "bH6y3p1uvSAr"
      },
      "execution_count": 19,
      "outputs": []
    },
    {
      "cell_type": "code",
      "source": [
        "# ds_train['document'] = ds_train['document'].apply(lambda x: remove_stopwords(x))"
      ],
      "metadata": {
        "id": "a9GAhzDNv1fR"
      },
      "execution_count": 20,
      "outputs": []
    },
    {
      "cell_type": "markdown",
      "source": [
        "# **Tolkenization**"
      ],
      "metadata": {
        "id": "4F1O5bZRvAns"
      }
    },
    {
      "cell_type": "code",
      "source": [
        "# def tokenize(review):\n",
        "#     tokens = review.lower().split()\n",
        "\n",
        "#     return tokens"
      ],
      "metadata": {
        "id": "yOtzax9Vu2mw"
      },
      "execution_count": 21,
      "outputs": []
    },
    {
      "cell_type": "code",
      "source": [
        "# ds_train['document'] = ds_train['document'].apply(lambda x: tokenize(x))"
      ],
      "metadata": {
        "id": "25M11w8ivBVv"
      },
      "execution_count": 22,
      "outputs": []
    },
    {
      "cell_type": "markdown",
      "source": [
        "# **Convert Dataframe to Dataset**"
      ],
      "metadata": {
        "id": "vi_V4DuMvS0W"
      }
    },
    {
      "cell_type": "code",
      "source": [
        "# convert dataframes to datasets\n",
        "from datasets import Dataset, DatasetDict\n",
        "# assign the splits\n",
        "train = Dataset.from_pandas(ds_train)\n",
        "test = Dataset.from_pandas(ds_test)\n",
        "# reconstruct both datasets into a Dataset Dict object\n",
        "processed_ds = DatasetDict(\n",
        "    {\n",
        "        'train': train,\n",
        "        'test': test\n",
        "    }\n",
        ")\n",
        "# view the resulting dataset dict object\n",
        "processed_ds"
      ],
      "metadata": {
        "colab": {
          "base_uri": "https://localhost:8080/"
        },
        "id": "nMcKc4RqoAu_",
        "outputId": "7f77bbba-0110-498c-a21b-1dfded394671"
      },
      "execution_count": 23,
      "outputs": [
        {
          "output_type": "execute_result",
          "data": {
            "text/plain": [
              "DatasetDict({\n",
              "    train: Dataset({\n",
              "        features: ['document', 'summary'],\n",
              "        num_rows: 44972\n",
              "    })\n",
              "    test: Dataset({\n",
              "        features: ['document', 'summary'],\n",
              "        num_rows: 5622\n",
              "    })\n",
              "})"
            ]
          },
          "metadata": {},
          "execution_count": 23
        }
      ]
    },
    {
      "cell_type": "markdown",
      "source": [
        "# **Save Dataset to File?**"
      ],
      "metadata": {
        "id": "nwNqQu-rwKpy"
      }
    },
    {
      "cell_type": "code",
      "source": [
        "# https://stackoverflow.com/questions/31791011/how-do-i-save-a-self-made-dataset-in-python-so-that-i-can-use-it-later\n",
        "import pickle\n",
        "\n",
        "with open('processed_ds.pickle', 'wb') as output:\n",
        "    pickle.dump(processed_ds, output)"
      ],
      "metadata": {
        "id": "uaRulVRbwPqN"
      },
      "execution_count": 24,
      "outputs": []
    },
    {
      "cell_type": "code",
      "source": [
        "# from datasets import Dataset"
      ],
      "metadata": {
        "id": "ehUZuk7U2-sH"
      },
      "execution_count": 25,
      "outputs": []
    },
    {
      "cell_type": "code",
      "source": [
        "# https://stackoverflow.com/questions/62396245/saving-my-dataset-as-a-csv-file-in-python\n",
        "# datasets.processed_ds.to_csv() # Not working?\n",
        "# import pandas as pd\n",
        "\n",
        "# # Assuming 'processed_ds' is your pandas DataFrame\n",
        "# processed_ds.to_csv('processed_ds.csv', index=False)\n",
        "\n",
        "# from datasets import DatasetDict\n",
        "\n",
        "# # Assuming 'processed_ds' is your DatasetDict object\n",
        "# processed_ds.save_to_disk('path/to/save/processed_ds')\n",
        "\n",
        "# # If you want to save a specific dataset within the DatasetDict to CSV, for example the 'train' split:\n",
        "# processed_ds['train'].to_csv('processed_ds_train.csv')\n",
        "\n",
        "# If you want to save a specific dataset within the DatasetDict to JSON, for example the 'train' split:\n",
        "processed_ds['train'].to_json('processed_ds_train.json')\n",
        "\n",
        "# Note: You can specify the path where you want to save the JSON file.\n"
      ],
      "metadata": {
        "id": "qfggxpVK2mb4",
        "outputId": "9696a6fa-4ad9-4ec3-c29e-3174247db847",
        "colab": {
          "base_uri": "https://localhost:8080/",
          "height": 66,
          "referenced_widgets": [
            "d96917a288574ef0814d6b9768338fbf",
            "26119135ed6a4ecb9589b76116fd6108",
            "8959da81737d450d93b4b0b250a5b6b3",
            "200802b4a73c4a2ba0d60794cc07188f",
            "792ca89fc0764ee0b5cd9969210d9cca",
            "55ed3b3af7e440748f4dd947aa77186a",
            "e8df6fde8a054538b1f55b83607c43d1",
            "de8c1792b2b54a7783370283bcb1b78d",
            "d4093123b3f24f9bb8f6080d9aa3f47b",
            "bb0e49a697834a3ba81c79c3be3c3c33",
            "3d05c26ba16846859a9f24f505ccd30b"
          ]
        }
      },
      "execution_count": 29,
      "outputs": [
        {
          "output_type": "display_data",
          "data": {
            "text/plain": [
              "Creating json from Arrow format:   0%|          | 0/45 [00:00<?, ?ba/s]"
            ],
            "application/vnd.jupyter.widget-view+json": {
              "version_major": 2,
              "version_minor": 0,
              "model_id": "d96917a288574ef0814d6b9768338fbf"
            }
          },
          "metadata": {}
        },
        {
          "output_type": "execute_result",
          "data": {
            "text/plain": [
              "553820688"
            ]
          },
          "metadata": {},
          "execution_count": 29
        }
      ]
    }
  ],
  "metadata": {
    "language_info": {
      "name": "python"
    },
    "orig_nbformat": 4,
    "colab": {
      "provenance": []
    },
    "kernelspec": {
      "name": "python3",
      "display_name": "Python 3"
    },
    "widgets": {
      "application/vnd.jupyter.widget-state+json": {
        "d96917a288574ef0814d6b9768338fbf": {
          "model_module": "@jupyter-widgets/controls",
          "model_name": "HBoxModel",
          "model_module_version": "1.5.0",
          "state": {
            "_dom_classes": [],
            "_model_module": "@jupyter-widgets/controls",
            "_model_module_version": "1.5.0",
            "_model_name": "HBoxModel",
            "_view_count": null,
            "_view_module": "@jupyter-widgets/controls",
            "_view_module_version": "1.5.0",
            "_view_name": "HBoxView",
            "box_style": "",
            "children": [
              "IPY_MODEL_26119135ed6a4ecb9589b76116fd6108",
              "IPY_MODEL_8959da81737d450d93b4b0b250a5b6b3",
              "IPY_MODEL_200802b4a73c4a2ba0d60794cc07188f"
            ],
            "layout": "IPY_MODEL_792ca89fc0764ee0b5cd9969210d9cca"
          }
        },
        "26119135ed6a4ecb9589b76116fd6108": {
          "model_module": "@jupyter-widgets/controls",
          "model_name": "HTMLModel",
          "model_module_version": "1.5.0",
          "state": {
            "_dom_classes": [],
            "_model_module": "@jupyter-widgets/controls",
            "_model_module_version": "1.5.0",
            "_model_name": "HTMLModel",
            "_view_count": null,
            "_view_module": "@jupyter-widgets/controls",
            "_view_module_version": "1.5.0",
            "_view_name": "HTMLView",
            "description": "",
            "description_tooltip": null,
            "layout": "IPY_MODEL_55ed3b3af7e440748f4dd947aa77186a",
            "placeholder": "​",
            "style": "IPY_MODEL_e8df6fde8a054538b1f55b83607c43d1",
            "value": "Creating json from Arrow format: 100%"
          }
        },
        "8959da81737d450d93b4b0b250a5b6b3": {
          "model_module": "@jupyter-widgets/controls",
          "model_name": "FloatProgressModel",
          "model_module_version": "1.5.0",
          "state": {
            "_dom_classes": [],
            "_model_module": "@jupyter-widgets/controls",
            "_model_module_version": "1.5.0",
            "_model_name": "FloatProgressModel",
            "_view_count": null,
            "_view_module": "@jupyter-widgets/controls",
            "_view_module_version": "1.5.0",
            "_view_name": "ProgressView",
            "bar_style": "success",
            "description": "",
            "description_tooltip": null,
            "layout": "IPY_MODEL_de8c1792b2b54a7783370283bcb1b78d",
            "max": 45,
            "min": 0,
            "orientation": "horizontal",
            "style": "IPY_MODEL_d4093123b3f24f9bb8f6080d9aa3f47b",
            "value": 45
          }
        },
        "200802b4a73c4a2ba0d60794cc07188f": {
          "model_module": "@jupyter-widgets/controls",
          "model_name": "HTMLModel",
          "model_module_version": "1.5.0",
          "state": {
            "_dom_classes": [],
            "_model_module": "@jupyter-widgets/controls",
            "_model_module_version": "1.5.0",
            "_model_name": "HTMLModel",
            "_view_count": null,
            "_view_module": "@jupyter-widgets/controls",
            "_view_module_version": "1.5.0",
            "_view_name": "HTMLView",
            "description": "",
            "description_tooltip": null,
            "layout": "IPY_MODEL_bb0e49a697834a3ba81c79c3be3c3c33",
            "placeholder": "​",
            "style": "IPY_MODEL_3d05c26ba16846859a9f24f505ccd30b",
            "value": " 45/45 [00:08&lt;00:00,  3.90ba/s]"
          }
        },
        "792ca89fc0764ee0b5cd9969210d9cca": {
          "model_module": "@jupyter-widgets/base",
          "model_name": "LayoutModel",
          "model_module_version": "1.2.0",
          "state": {
            "_model_module": "@jupyter-widgets/base",
            "_model_module_version": "1.2.0",
            "_model_name": "LayoutModel",
            "_view_count": null,
            "_view_module": "@jupyter-widgets/base",
            "_view_module_version": "1.2.0",
            "_view_name": "LayoutView",
            "align_content": null,
            "align_items": null,
            "align_self": null,
            "border": null,
            "bottom": null,
            "display": null,
            "flex": null,
            "flex_flow": null,
            "grid_area": null,
            "grid_auto_columns": null,
            "grid_auto_flow": null,
            "grid_auto_rows": null,
            "grid_column": null,
            "grid_gap": null,
            "grid_row": null,
            "grid_template_areas": null,
            "grid_template_columns": null,
            "grid_template_rows": null,
            "height": null,
            "justify_content": null,
            "justify_items": null,
            "left": null,
            "margin": null,
            "max_height": null,
            "max_width": null,
            "min_height": null,
            "min_width": null,
            "object_fit": null,
            "object_position": null,
            "order": null,
            "overflow": null,
            "overflow_x": null,
            "overflow_y": null,
            "padding": null,
            "right": null,
            "top": null,
            "visibility": null,
            "width": null
          }
        },
        "55ed3b3af7e440748f4dd947aa77186a": {
          "model_module": "@jupyter-widgets/base",
          "model_name": "LayoutModel",
          "model_module_version": "1.2.0",
          "state": {
            "_model_module": "@jupyter-widgets/base",
            "_model_module_version": "1.2.0",
            "_model_name": "LayoutModel",
            "_view_count": null,
            "_view_module": "@jupyter-widgets/base",
            "_view_module_version": "1.2.0",
            "_view_name": "LayoutView",
            "align_content": null,
            "align_items": null,
            "align_self": null,
            "border": null,
            "bottom": null,
            "display": null,
            "flex": null,
            "flex_flow": null,
            "grid_area": null,
            "grid_auto_columns": null,
            "grid_auto_flow": null,
            "grid_auto_rows": null,
            "grid_column": null,
            "grid_gap": null,
            "grid_row": null,
            "grid_template_areas": null,
            "grid_template_columns": null,
            "grid_template_rows": null,
            "height": null,
            "justify_content": null,
            "justify_items": null,
            "left": null,
            "margin": null,
            "max_height": null,
            "max_width": null,
            "min_height": null,
            "min_width": null,
            "object_fit": null,
            "object_position": null,
            "order": null,
            "overflow": null,
            "overflow_x": null,
            "overflow_y": null,
            "padding": null,
            "right": null,
            "top": null,
            "visibility": null,
            "width": null
          }
        },
        "e8df6fde8a054538b1f55b83607c43d1": {
          "model_module": "@jupyter-widgets/controls",
          "model_name": "DescriptionStyleModel",
          "model_module_version": "1.5.0",
          "state": {
            "_model_module": "@jupyter-widgets/controls",
            "_model_module_version": "1.5.0",
            "_model_name": "DescriptionStyleModel",
            "_view_count": null,
            "_view_module": "@jupyter-widgets/base",
            "_view_module_version": "1.2.0",
            "_view_name": "StyleView",
            "description_width": ""
          }
        },
        "de8c1792b2b54a7783370283bcb1b78d": {
          "model_module": "@jupyter-widgets/base",
          "model_name": "LayoutModel",
          "model_module_version": "1.2.0",
          "state": {
            "_model_module": "@jupyter-widgets/base",
            "_model_module_version": "1.2.0",
            "_model_name": "LayoutModel",
            "_view_count": null,
            "_view_module": "@jupyter-widgets/base",
            "_view_module_version": "1.2.0",
            "_view_name": "LayoutView",
            "align_content": null,
            "align_items": null,
            "align_self": null,
            "border": null,
            "bottom": null,
            "display": null,
            "flex": null,
            "flex_flow": null,
            "grid_area": null,
            "grid_auto_columns": null,
            "grid_auto_flow": null,
            "grid_auto_rows": null,
            "grid_column": null,
            "grid_gap": null,
            "grid_row": null,
            "grid_template_areas": null,
            "grid_template_columns": null,
            "grid_template_rows": null,
            "height": null,
            "justify_content": null,
            "justify_items": null,
            "left": null,
            "margin": null,
            "max_height": null,
            "max_width": null,
            "min_height": null,
            "min_width": null,
            "object_fit": null,
            "object_position": null,
            "order": null,
            "overflow": null,
            "overflow_x": null,
            "overflow_y": null,
            "padding": null,
            "right": null,
            "top": null,
            "visibility": null,
            "width": null
          }
        },
        "d4093123b3f24f9bb8f6080d9aa3f47b": {
          "model_module": "@jupyter-widgets/controls",
          "model_name": "ProgressStyleModel",
          "model_module_version": "1.5.0",
          "state": {
            "_model_module": "@jupyter-widgets/controls",
            "_model_module_version": "1.5.0",
            "_model_name": "ProgressStyleModel",
            "_view_count": null,
            "_view_module": "@jupyter-widgets/base",
            "_view_module_version": "1.2.0",
            "_view_name": "StyleView",
            "bar_color": null,
            "description_width": ""
          }
        },
        "bb0e49a697834a3ba81c79c3be3c3c33": {
          "model_module": "@jupyter-widgets/base",
          "model_name": "LayoutModel",
          "model_module_version": "1.2.0",
          "state": {
            "_model_module": "@jupyter-widgets/base",
            "_model_module_version": "1.2.0",
            "_model_name": "LayoutModel",
            "_view_count": null,
            "_view_module": "@jupyter-widgets/base",
            "_view_module_version": "1.2.0",
            "_view_name": "LayoutView",
            "align_content": null,
            "align_items": null,
            "align_self": null,
            "border": null,
            "bottom": null,
            "display": null,
            "flex": null,
            "flex_flow": null,
            "grid_area": null,
            "grid_auto_columns": null,
            "grid_auto_flow": null,
            "grid_auto_rows": null,
            "grid_column": null,
            "grid_gap": null,
            "grid_row": null,
            "grid_template_areas": null,
            "grid_template_columns": null,
            "grid_template_rows": null,
            "height": null,
            "justify_content": null,
            "justify_items": null,
            "left": null,
            "margin": null,
            "max_height": null,
            "max_width": null,
            "min_height": null,
            "min_width": null,
            "object_fit": null,
            "object_position": null,
            "order": null,
            "overflow": null,
            "overflow_x": null,
            "overflow_y": null,
            "padding": null,
            "right": null,
            "top": null,
            "visibility": null,
            "width": null
          }
        },
        "3d05c26ba16846859a9f24f505ccd30b": {
          "model_module": "@jupyter-widgets/controls",
          "model_name": "DescriptionStyleModel",
          "model_module_version": "1.5.0",
          "state": {
            "_model_module": "@jupyter-widgets/controls",
            "_model_module_version": "1.5.0",
            "_model_name": "DescriptionStyleModel",
            "_view_count": null,
            "_view_module": "@jupyter-widgets/base",
            "_view_module_version": "1.2.0",
            "_view_name": "StyleView",
            "description_width": ""
          }
        }
      }
    }
  },
  "nbformat": 4,
  "nbformat_minor": 0
}